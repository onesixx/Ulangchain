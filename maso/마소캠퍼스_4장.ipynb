{
 "cells": [
  {
   "cell_type": "markdown",
   "id": "6fa4d2f9-220f-4546-8520-84b6a1d70593",
   "metadata": {
    "editable": true,
    "id": "6fa4d2f9-220f-4546-8520-84b6a1d70593",
    "tags": []
   },
   "source": [
    "### **LLM API 활용해보기**"
   ]
  },
  {
   "cell_type": "code",
   "execution_count": null,
   "id": "78540931-b77f-4b66-b19a-79d410791b9c",
   "metadata": {
    "id": "78540931-b77f-4b66-b19a-79d410791b9c"
   },
   "outputs": [],
   "source": [
    "#필수 라이브러리 설치\n",
    "!pip install langchain openai anthropic langchain-openai langchain-anthropic"
   ]
  },
  {
   "cell_type": "markdown",
   "id": "c1f75452-1996-4e0e-a95b-ffbf386990fc",
   "metadata": {
    "id": "c1f75452-1996-4e0e-a95b-ffbf386990fc"
   },
   "source": [
    "**[앤트로픽의 Claude 2.1 모델 API 호출 코드]**"
   ]
  },
  {
   "cell_type": "code",
   "execution_count": null,
   "id": "fc6a873b-dcbc-48fb-8071-1fddca85917d",
   "metadata": {
    "id": "fc6a873b-dcbc-48fb-8071-1fddca85917d"
   },
   "outputs": [],
   "source": [
    "import anthropic\n",
    "\n",
    "anthropic.Anthropic(\n",
    "    api_key=\"YOUR_API_KEY\").messages.create(\n",
    "    model=\"claude-3-opus-20240229\",\n",
    "    max_tokens=1024,\n",
    "    messages=[\n",
    "        {\"role\": \"user\", \"content\": \"Hello, world\"}\n",
    "    ]\n",
    ")"
   ]
  },
  {
   "cell_type": "markdown",
   "id": "9b69941c-8c73-406c-89f8-e597bfe8b127",
   "metadata": {
    "id": "9b69941c-8c73-406c-89f8-e597bfe8b127"
   },
   "source": [
    "**[오픈AI의 GPT-3.5 Turbo 모델 API 호출 코드]**"
   ]
  },
  {
   "cell_type": "code",
   "execution_count": null,
   "id": "e5f018a9-192d-416a-9c1a-0952f0432179",
   "metadata": {
    "id": "e5f018a9-192d-416a-9c1a-0952f0432179"
   },
   "outputs": [],
   "source": [
    "from openai import OpenAI\n",
    "\n",
    "client = OpenAI(api_key = \"YOUR_API_KEY\")\n",
    "client.chat.completions.create(\n",
    "    model=\"gpt-4o-mini\",\n",
    "    messages=[\n",
    "        {\n",
    "            \"role\": \"user\",\n",
    "            \"content\": \"Who won the world series in 2020?\"\n",
    "        }\n",
    "    ]\n",
    ")"
   ]
  },
  {
   "cell_type": "markdown",
   "id": "e14edc55-9629-4a7c-9bb5-ee35264154ac",
   "metadata": {
    "id": "e14edc55-9629-4a7c-9bb5-ee35264154ac"
   },
   "source": [
    "**[랭체인을 활용한 앤트로픽 Claude 2.1 모델 API 호출 코드]**"
   ]
  },
  {
   "cell_type": "code",
   "execution_count": null,
   "id": "5d3a368e-cbea-4d7a-85f0-a451afa0da3e",
   "metadata": {
    "id": "5d3a368e-cbea-4d7a-85f0-a451afa0da3e"
   },
   "outputs": [],
   "source": [
    "from langchain_anthropic import ChatAnthropic\n",
    "chat = ChatAnthropic(\n",
    "    model_name =\"claude-3-opus-20240229\",\n",
    "    anthropic_api_key=\"YOUR_API_KEY\"\n",
    ")\n",
    "chat.invoke(\"안녕~ 너를 소개해줄래?\")"
   ]
  },
  {
   "cell_type": "markdown",
   "id": "9783b4ce-c638-4c67-b505-4cac6c5c82f2",
   "metadata": {
    "id": "9783b4ce-c638-4c67-b505-4cac6c5c82f2"
   },
   "source": [
    "**[랭체인을 활용한 오픈AI GPT-3.5 Turbo 모델 API 호출 코드]**"
   ]
  },
  {
   "cell_type": "code",
   "execution_count": null,
   "id": "c914e106-45c2-484d-b2a7-6b4effca0b99",
   "metadata": {
    "editable": true,
    "id": "c914e106-45c2-484d-b2a7-6b4effca0b99",
    "tags": []
   },
   "outputs": [],
   "source": [
    "from langchain_openai import ChatOpenAI\n",
    "chat = ChatOpenAI(\n",
    "    model_name = 'gpt-4o',\n",
    "    openai_api_key=\"YOUR_API_KEY\"\n",
    ")\n",
    "chat.invoke(\"안녕~ 너를 소개해줄래?\")"
   ]
  },
  {
   "cell_type": "code",
   "execution_count": null,
   "id": "yKD_OjAd8_79",
   "metadata": {
    "id": "yKD_OjAd8_79"
   },
   "outputs": [],
   "source": []
  },
  {
   "cell_type": "markdown",
   "id": "9686342b-2d87-41f7-984d-0ffb2de72aa2",
   "metadata": {
    "id": "9686342b-2d87-41f7-984d-0ffb2de72aa2"
   },
   "source": [
    "### **프롬프트 템플릿에 대해 알아보기**"
   ]
  },
  {
   "cell_type": "markdown",
   "id": "abf60921-0b5e-45c8-96e9-3186b0128738",
   "metadata": {
    "id": "abf60921-0b5e-45c8-96e9-3186b0128738"
   },
   "source": [
    "**[ChatPromptTemplate]**"
   ]
  },
  {
   "cell_type": "code",
   "execution_count": null,
   "id": "18f20b43-e6f2-4030-9be5-d02b5166862d",
   "metadata": {
    "id": "18f20b43-e6f2-4030-9be5-d02b5166862d"
   },
   "outputs": [],
   "source": [
    "from langchain_core.prompts import ChatPromptTemplate\n",
    "\n",
    "chat_template = ChatPromptTemplate.from_messages(\n",
    "    [\n",
    "\t#SystemMessage: 유용한 챗봇이라는 역할과 이름을 부여\n",
    "        (\"system\", \"You are a helpful AI bot. Your name is {name}.\"),\n",
    "    #HumanMessage와 AIMessage: 서로 안부를 묻고 답하는 대화 히스토리 주입\n",
    "        (\"human\", \"Hello, how are you doing?\"),\n",
    "        (\"ai\", \"I'm doing well, thanks!\"),\n",
    "    #HumanMessage로 사용자가 입력한 프롬프트를 전달\n",
    "        (\"human\", \"{user_input}\"),\n",
    "    ]\n",
    ")\n",
    "\n",
    "messages = chat_template.format_messages(name=\"Bob\", user_input=\"What is your name?\")\n",
    "print(messages)"
   ]
  },
  {
   "cell_type": "code",
   "execution_count": null,
   "id": "f21ed911-2667-4c9a-90e4-c8be4e07c063",
   "metadata": {
    "id": "f21ed911-2667-4c9a-90e4-c8be4e07c063"
   },
   "outputs": [],
   "source": [
    "from langchain.prompts import HumanMessagePromptTemplate\n",
    "from langchain_core.messages import SystemMessage\n",
    "from langchain_openai import ChatOpenAI\n",
    "\n",
    "chat_template = ChatPromptTemplate.from_messages(\n",
    "    [\n",
    "        SystemMessage(\n",
    "            content=(\n",
    "       \"You are a helpful assistant that re-writes the user's text to sound more upbeat.\"\n",
    "            )\n",
    "        ),\n",
    "        HumanMessagePromptTemplate.from_template(\"{text}\"),\n",
    "    ]\n",
    ")\n",
    "messages = chat_template.format_messages(text=\"I don't like eating tasty things\")\n",
    "print(messages)"
   ]
  },
  {
   "cell_type": "markdown",
   "id": "e227bd0b-17fb-457f-86a5-97d8a83676b3",
   "metadata": {
    "id": "e227bd0b-17fb-457f-86a5-97d8a83676b3"
   },
   "source": [
    "### **LLM API의 다양한 기능 활용해보기**"
   ]
  },
  {
   "cell_type": "markdown",
   "id": "86bd8ae6-4c55-4700-a466-d0dfbb5371f8",
   "metadata": {
    "id": "86bd8ae6-4c55-4700-a466-d0dfbb5371f8"
   },
   "source": [
    "**[LLM API의 Temperature 이애하기]**"
   ]
  },
  {
   "cell_type": "code",
   "execution_count": null,
   "id": "08240f98-37f0-48ef-ac6d-78e68561c121",
   "metadata": {
    "id": "08240f98-37f0-48ef-ac6d-78e68561c121"
   },
   "outputs": [],
   "source": [
    "#API KEY 저장을 위한 os 라이브러리 호출\n",
    "import os\n",
    "\n",
    "#OPENAI API키 저장\n",
    "os.environ[\"OPENAI_API_KEY\"] = \"YOUR_API_KEY\"\n",
    "\n",
    "#Temperature=0\n",
    "chatgpt_temp0_1 = ChatOpenAI(model_name=\"gpt-3.5-turbo-0125\", temperature = 0)\n",
    "chatgpt_temp0_2 = ChatOpenAI(model_name=\"gpt-3.5-turbo-0125\", temperature = 0)\n",
    "\n",
    "#Temperature=1\n",
    "chatgpt_temp1_1 = ChatOpenAI(model_name=\"gpt-3.5-turbo-0125\", temperature = 1)\n",
    "chatgpt_temp1_2 = ChatOpenAI(model_name=\"gpt-3.5-turbo-0125\", temperature = 1)\n",
    "\n",
    "model_list = [chatgpt_temp0_1, chatgpt_temp0_2, chatgpt_temp1_1, chatgpt_temp1_2]\n",
    "\n",
    "for i in model_list:\n",
    "    answer = i.invoke(\"왜 파이썬이 가장 인기있는 프로그래밍 언어인지 한 문장으로 설명해줘\", max_tokens = 128)\n",
    "    print(\"-\"*100)\n",
    "    print(\">>>\",answer.content)"
   ]
  },
  {
   "cell_type": "markdown",
   "id": "f3a8bf0d-b183-4407-819d-73555754104e",
   "metadata": {
    "id": "f3a8bf0d-b183-4407-819d-73555754104e"
   },
   "source": [
    "**[ChatGPT처럼 답변 스트리밍하기]**"
   ]
  },
  {
   "cell_type": "code",
   "execution_count": null,
   "id": "bc1a6d34-1c73-4b6e-b6f9-0141dec03eb0",
   "metadata": {
    "id": "bc1a6d34-1c73-4b6e-b6f9-0141dec03eb0"
   },
   "outputs": [],
   "source": [
    "from langchain_openai import ChatOpenAI\n",
    "chat = ChatOpenAI(model_name=\"gpt-3.5-turbo-0125\", temperature = 0)\n",
    "for chunk in chat.stream(\"달에 관한 시를 써줘\"):\n",
    "    print(chunk.content, end=\"\", flush=True)"
   ]
  },
  {
   "cell_type": "markdown",
   "id": "47973815-82d8-4226-bb03-1f18b4d535f6",
   "metadata": {
    "id": "47973815-82d8-4226-bb03-1f18b4d535f6"
   },
   "source": [
    "**[답변 캐싱하기]**"
   ]
  },
  {
   "cell_type": "code",
   "execution_count": null,
   "id": "21a83d7d-e566-4bb0-8b6f-dc172f29afb3",
   "metadata": {
    "id": "21a83d7d-e566-4bb0-8b6f-dc172f29afb3"
   },
   "outputs": [],
   "source": [
    "from langchain.globals import set_llm_cache #캐시메모리 라이브러리 호출\n",
    "from langchain_openai import ChatOpenAI\n",
    "\n",
    "chat = ChatOpenAI(model_name=\"gpt-3.5-turbo-0125\", temperature = 0)"
   ]
  },
  {
   "cell_type": "markdown",
   "id": "5f5ab26d-d085-4188-b740-bb295dda6a92",
   "metadata": {
    "id": "5f5ab26d-d085-4188-b740-bb295dda6a92"
   },
   "source": [
    "**첫 질문-응답 시간 측정**"
   ]
  },
  {
   "cell_type": "code",
   "execution_count": null,
   "id": "_s1TLAl_GOs-",
   "metadata": {
    "id": "_s1TLAl_GOs-"
   },
   "outputs": [],
   "source": [
    "pip install langchain-community"
   ]
  },
  {
   "cell_type": "code",
   "execution_count": null,
   "id": "a0d9b3ab-70cf-47d5-817f-b13dcdbd1d93",
   "metadata": {
    "id": "a0d9b3ab-70cf-47d5-817f-b13dcdbd1d93"
   },
   "outputs": [],
   "source": [
    "%%time\n",
    "#셀 실행 시간 측정\n",
    "from langchain.cache import InMemoryCache\n",
    "set_llm_cache(InMemoryCache()) #캐시메모리 설정\n",
    "\n",
    "chat.invoke(\"일반상대성 이론을 한마디로 설명해줘\")"
   ]
  },
  {
   "cell_type": "markdown",
   "id": "15a1442a-7cb7-44be-87e3-a0d92c86df33",
   "metadata": {
    "id": "15a1442a-7cb7-44be-87e3-a0d92c86df33"
   },
   "source": [
    "**두번째 질문-응답 시간 측정**"
   ]
  },
  {
   "cell_type": "code",
   "execution_count": null,
   "id": "f76c2ac9-ce6c-4c4b-9147-6c75291c2ab4",
   "metadata": {
    "id": "f76c2ac9-ce6c-4c4b-9147-6c75291c2ab4"
   },
   "outputs": [],
   "source": [
    "%%time\n",
    "#같은 질문 전달\n",
    "chat.invoke(\"일반상대성 이론을 한마디로 설명해줘\")"
   ]
  },
  {
   "cell_type": "markdown",
   "id": "f2b801ce-ad37-4423-bb12-441d4e9625be",
   "metadata": {
    "editable": true,
    "id": "f2b801ce-ad37-4423-bb12-441d4e9625be",
    "jp-MarkdownHeadingCollapsed": true,
    "tags": []
   },
   "source": [
    "## **PromptTemplate과 ChatPromptTemplate**"
   ]
  },
  {
   "cell_type": "markdown",
   "id": "8ce325cf-7e12-4b78-a413-cfc64721582e",
   "metadata": {
    "id": "8ce325cf-7e12-4b78-a413-cfc64721582e"
   },
   "source": [
    "**[PromptTemplate]**"
   ]
  },
  {
   "cell_type": "code",
   "execution_count": null,
   "id": "0a0517ef-9f90-48be-9230-25bb03854781",
   "metadata": {
    "id": "0a0517ef-9f90-48be-9230-25bb03854781"
   },
   "outputs": [],
   "source": [
    "from langchain.prompts import PromptTemplate\n",
    "\n",
    "prompt= (\n",
    "    PromptTemplate.from_template(\n",
    "        \"\"\"\n",
    "        너는 요리사야. 내가 가진 재료들을 갖고 만들 수 있는 요리를 {개수}추천하고,\n",
    "        그 요리의 레시피를 제시해줘. 내가 가진 재료는 아래와 같아.\n",
    "        <재료>\n",
    "        {재료}\n",
    "        \"\"\"\n",
    "        )\n",
    "    )\n",
    "\n",
    "prompt"
   ]
  },
  {
   "cell_type": "code",
   "execution_count": null,
   "id": "84a6723a-093d-4a78-bce8-86e7108372ca",
   "metadata": {
    "id": "84a6723a-093d-4a78-bce8-86e7108372ca"
   },
   "outputs": [],
   "source": [
    "prompt.format(개수= 3, 재료=\"사과, 양파, 계란\")"
   ]
  },
  {
   "cell_type": "markdown",
   "id": "91ad066d-ee98-4070-a0a9-d1a4ae777510",
   "metadata": {
    "id": "91ad066d-ee98-4070-a0a9-d1a4ae777510"
   },
   "source": [
    "**[ChatPromptTemplate]**"
   ]
  },
  {
   "cell_type": "code",
   "execution_count": null,
   "id": "565be713-d67a-425f-b03d-35465cd9b8ae",
   "metadata": {
    "id": "565be713-d67a-425f-b03d-35465cd9b8ae"
   },
   "outputs": [],
   "source": [
    "from langchain_openai import ChatOpenAI\n",
    "from langchain.schema import HumanMessage, SystemMessage, AIMessage\n",
    "\n",
    "prompt = SystemMessage(content=\n",
    "        \"\"\"\n",
    "        너는 항상 밝은 말투로 대화하는 챗봇이야. 답변의 끝에 이모티콘을 붙여줘.\n",
    "        \"\"\"\n",
    "        )\n",
    "\n",
    "new_prompt = (\n",
    "    prompt\n",
    "    + HumanMessage(content=\n",
    "                          \"\"\"\n",
    "                          오늘은 날씨가 어때?\n",
    "                          \"\"\")\n",
    "    + AIMessage(content=\n",
    "                         \"\"\"\n",
    "                         오늘은 날씨가 아주 좋아요!\n",
    "                         \"\"\")\n",
    "    + \"\"\"{input}\"\"\"\n",
    ")\n",
    "\n",
    "new_prompt.format_messages(input = \"오늘 너의 기분은 어때?\")"
   ]
  },
  {
   "cell_type": "markdown",
   "id": "e8c64b62-2877-4c1d-84ab-997c6d51d2ff",
   "metadata": {
    "id": "e8c64b62-2877-4c1d-84ab-997c6d51d2ff"
   },
   "source": [
    "**[간단한 LLM Chain 구성해보기]**"
   ]
  },
  {
   "cell_type": "code",
   "execution_count": null,
   "id": "a2a6172e-15ee-47e1-ac83-9cb923b0b16e",
   "metadata": {
    "id": "a2a6172e-15ee-47e1-ac83-9cb923b0b16e"
   },
   "outputs": [],
   "source": [
    "import os\n",
    "from langchain.chains import LLMChain\n",
    "from langchain_openai import ChatOpenAI\n",
    "\n",
    "model = ChatOpenAI(model = 'gpt-4o')\n",
    "chain = LLMChain(llm=model, prompt=new_prompt)\n",
    "chain.invoke(\"오늘 너의 기분은 어때?\")"
   ]
  },
  {
   "cell_type": "markdown",
   "id": "98159107-d2da-4942-94d7-d327a23fbd13",
   "metadata": {
    "id": "98159107-d2da-4942-94d7-d327a23fbd13",
    "jp-MarkdownHeadingCollapsed": true
   },
   "source": [
    "## **Few-shot 예제를 통한 프롬프트 템플릿**"
   ]
  },
  {
   "cell_type": "markdown",
   "id": "b195a8a6-3a38-493d-accc-7dfe40fd7c70",
   "metadata": {
    "id": "b195a8a6-3a38-493d-accc-7dfe40fd7c70"
   },
   "source": [
    "**[3행시 예제 프롬프트 템플릿]**"
   ]
  },
  {
   "cell_type": "code",
   "execution_count": null,
   "id": "26c52776-ba2b-4e54-b433-971bdf8c289b",
   "metadata": {
    "id": "26c52776-ba2b-4e54-b433-971bdf8c289b"
   },
   "outputs": [],
   "source": [
    "from langchain.prompts.few_shot import FewShotPromptTemplate\n",
    "from langchain.prompts.prompt import PromptTemplate\n",
    "examples = [\n",
    "    {\n",
    "        \"question\": \"아이유로 삼행시 만들어줘\",\n",
    "        \"answer\":\n",
    "                \"\"\"\n",
    "                아: 아이유는\n",
    "                이: 이런 강의를 들을 이\n",
    "                유: 유가 없다.\n",
    "                \"\"\"\n",
    "    }\n",
    "]\n",
    "\n",
    "example_prompt = PromptTemplate(\n",
    "                                input_variables=[\"question\", \"answer\"],\n",
    "                                template=\"Question: {question}\\n{answer}\"\n",
    "                                )\n",
    "\n",
    "print(example_prompt.format(**examples[0]))"
   ]
  },
  {
   "cell_type": "code",
   "execution_count": null,
   "id": "8ddf751d-8e4c-479e-8e60-00cc2a20951b",
   "metadata": {
    "id": "8ddf751d-8e4c-479e-8e60-00cc2a20951b"
   },
   "outputs": [],
   "source": [
    "prompt = FewShotPromptTemplate(\n",
    "    examples=examples,\n",
    "    example_prompt=example_prompt,\n",
    "    suffix=\"Question: {input}\",\n",
    "    input_variables=[\"input\"]\n",
    ")\n",
    "\n",
    "print(prompt.format(input=\"호날두로 삼행시 만들어줘\"))"
   ]
  },
  {
   "cell_type": "markdown",
   "id": "c51e0a1e-e48e-4559-beee-ca51482fe386",
   "metadata": {
    "id": "c51e0a1e-e48e-4559-beee-ca51482fe386"
   },
   "source": [
    "**[Few-shot 미적용 결과]**"
   ]
  },
  {
   "cell_type": "code",
   "execution_count": null,
   "id": "62646688-ec17-47ab-ad0c-6a18794dc413",
   "metadata": {
    "id": "62646688-ec17-47ab-ad0c-6a18794dc413"
   },
   "outputs": [],
   "source": [
    "model = ChatOpenAI(model_name = \"gpt-3.5-turbo-0125\", temperature = 1)\n",
    "result = model.invoke(\"호날두로 삼행시 만들어줘\")\n",
    "print(result.content)"
   ]
  },
  {
   "cell_type": "markdown",
   "id": "ab2f87ae-b92f-4c3d-8c3b-e584e0d95d9f",
   "metadata": {
    "id": "ab2f87ae-b92f-4c3d-8c3b-e584e0d95d9f"
   },
   "source": [
    "**[Few-shot 적용 결과]**"
   ]
  },
  {
   "cell_type": "code",
   "execution_count": null,
   "id": "46042e1c-3c1d-44e2-9501-6a89da976904",
   "metadata": {
    "id": "46042e1c-3c1d-44e2-9501-6a89da976904"
   },
   "outputs": [],
   "source": [
    "result = model.invoke(prompt.format(input=\"호날두로 삼행시 만들어줘\"))\n",
    "print(result.content)"
   ]
  },
  {
   "cell_type": "markdown",
   "id": "48dadfda-ed40-4102-9811-29c6f1ca8972",
   "metadata": {
    "id": "48dadfda-ed40-4102-9811-29c6f1ca8972",
    "jp-MarkdownHeadingCollapsed": true
   },
   "source": [
    "## **Partial Prompt Template**"
   ]
  },
  {
   "cell_type": "markdown",
   "id": "6ebbfd08-5f36-40c2-ae3b-9fd961633007",
   "metadata": {
    "id": "6ebbfd08-5f36-40c2-ae3b-9fd961633007"
   },
   "source": [
    "**[Partial Prompt 예시]**"
   ]
  },
  {
   "cell_type": "code",
   "execution_count": null,
   "id": "b20cab6a-8ad2-4441-b66e-f8ec8e285f80",
   "metadata": {
    "id": "b20cab6a-8ad2-4441-b66e-f8ec8e285f80"
   },
   "outputs": [],
   "source": [
    "from langchain.prompts import PromptTemplate\n",
    "\n",
    "prompt = PromptTemplate.from_template(\"나이: {age} \\n직업: {job}\")\n",
    "partial_prompt = prompt.partial(age=\"20\")\n",
    "print(partial_prompt.format(job=\"개발자\"))"
   ]
  },
  {
   "cell_type": "markdown",
   "id": "8a183a71-5e6d-4da0-9e1b-93081896c126",
   "metadata": {
    "id": "8a183a71-5e6d-4da0-9e1b-93081896c126"
   },
   "source": [
    "**[현재 날짜 Partial Prompt 만들어보기]**"
   ]
  },
  {
   "cell_type": "code",
   "execution_count": null,
   "id": "d5f86c18-d91b-4436-95d2-16444c6d0b25",
   "metadata": {
    "id": "d5f86c18-d91b-4436-95d2-16444c6d0b25"
   },
   "outputs": [],
   "source": [
    "from datetime import datetime\n",
    "\n",
    "\n",
    "def _get_datetime():\n",
    "    now = datetime.now()\n",
    "    return now.strftime(\"%m/%d/%Y, %H:%M:%S\")"
   ]
  },
  {
   "cell_type": "code",
   "execution_count": null,
   "id": "bPDtymGJS1sZ",
   "metadata": {
    "id": "bPDtymGJS1sZ"
   },
   "outputs": [],
   "source": [
    "_get_datetime()"
   ]
  },
  {
   "cell_type": "code",
   "execution_count": null,
   "id": "fa80d25d-cb65-4157-9eab-0f90a40bc880",
   "metadata": {
    "editable": true,
    "id": "fa80d25d-cb65-4157-9eab-0f90a40bc880",
    "tags": []
   },
   "outputs": [],
   "source": [
    "prompt = PromptTemplate(\n",
    "    template=\"Tell me a {adjective} joke about the day {date}\",\n",
    "    input_variables=[\"adjective\", \"date\"],\n",
    ")\n",
    "partial_prompt = prompt.partial(date=_get_datetime)\n",
    "print(partial_prompt.format(adjective=\"funny\"))"
   ]
  },
  {
   "cell_type": "markdown",
   "id": "ddc0751d-c30b-41d1-b6bb-3ed59a711b42",
   "metadata": {
    "id": "ddc0751d-c30b-41d1-b6bb-3ed59a711b42",
    "jp-MarkdownHeadingCollapsed": true
   },
   "source": [
    "## **PDF Loaders**"
   ]
  },
  {
   "cell_type": "markdown",
   "id": "5043a3ce-2def-4aa0-9d88-d3f1099dc1b2",
   "metadata": {
    "id": "5043a3ce-2def-4aa0-9d88-d3f1099dc1b2"
   },
   "source": [
    "### **PyPDF Loader**"
   ]
  },
  {
   "cell_type": "code",
   "execution_count": null,
   "id": "3201f5ef-8d5e-463b-ba5e-3500a91a1b69",
   "metadata": {
    "id": "3201f5ef-8d5e-463b-ba5e-3500a91a1b69"
   },
   "outputs": [],
   "source": [
    "#PyPDF 설치\n",
    "!pip install -q pypdf"
   ]
  },
  {
   "cell_type": "code",
   "execution_count": null,
   "id": "92c07ac6-e037-4c0b-b448-08897b0ea877",
   "metadata": {
    "id": "92c07ac6-e037-4c0b-b448-08897b0ea877"
   },
   "outputs": [],
   "source": [
    "#PyPDFLoader 불러오기\n",
    "from langchain_community.document_loaders import PyPDFLoader\n",
    "\n",
    "# PDF파일 불러올 객체 PyPDFLoader 선언\n",
    "loader = PyPDFLoader(r\"/content/drive/MyDrive/마소캠퍼스/[이슈리포트 2022-2호] 혁신성장 정책금융 동향.pdf\")\n",
    "\n",
    "# PDF파일 로드 및 페이지별로 자르기\n",
    "pages = loader.load_and_split()\n",
    "print(pages[5].page_content)"
   ]
  },
  {
   "cell_type": "code",
   "execution_count": null,
   "id": "luYqSnQlWkNi",
   "metadata": {
    "collapsed": true,
    "id": "luYqSnQlWkNi"
   },
   "outputs": [],
   "source": [
    "pages"
   ]
  },
  {
   "cell_type": "markdown",
   "id": "b3c50af1-7bc1-4155-a131-ed6966b036eb",
   "metadata": {
    "id": "b3c50af1-7bc1-4155-a131-ed6966b036eb"
   },
   "source": [
    "**[OCR 기능 활용하여 이미지-텍스트 혼합 페이지 내 텍스트 추출하기]**"
   ]
  },
  {
   "cell_type": "code",
   "execution_count": null,
   "id": "b65ca670-98bd-4af3-b3dc-0f077a4aa2ef",
   "metadata": {
    "collapsed": true,
    "id": "b65ca670-98bd-4af3-b3dc-0f077a4aa2ef"
   },
   "outputs": [],
   "source": [
    "#OCR기능 위해 설치\n",
    "!pip install rapidocr-onnxruntime"
   ]
  },
  {
   "cell_type": "markdown",
   "id": "b16732f3-00e1-4f4c-b9c4-590e8acdf852",
   "metadata": {
    "id": "b16732f3-00e1-4f4c-b9c4-590e8acdf852"
   },
   "source": [
    "*아래 셀은 실행 시 많은 시간이 소요됩니다."
   ]
  },
  {
   "cell_type": "code",
   "execution_count": null,
   "id": "73e46060-2707-47a2-a73c-22cabde0819d",
   "metadata": {
    "collapsed": true,
    "id": "73e46060-2707-47a2-a73c-22cabde0819d"
   },
   "outputs": [],
   "source": [
    "#PyPDFLoader 불러오기\n",
    "from langchain_community.document_loaders import PyPDFLoader\n",
    "\n",
    "# PDF파일 불러올 객체 PyPDFLoader 선언(extract_images 매개변수로 OCR 수행)\n",
    "loader = PyPDFLoader(r\"/content/drive/MyDrive/마소캠퍼스/[이슈리포트 2022-2호] 혁신성장 정책금융 동향.pdf\", extract_images=True)\n",
    "\n",
    "# PDF파일 로드 및 페이지별로 자르기\n",
    "pages = loader.load_and_split()\n",
    "print(pages[5].page_content)"
   ]
  },
  {
   "cell_type": "markdown",
   "id": "41f0bcf9-352e-4245-9ef7-fae8af868293",
   "metadata": {
    "id": "41f0bcf9-352e-4245-9ef7-fae8af868293"
   },
   "source": [
    "**[페이지 내 테이블 추출하기]**"
   ]
  },
  {
   "cell_type": "code",
   "execution_count": null,
   "id": "888d112b-9c9a-4d79-ac42-70b262f7c170",
   "metadata": {
    "collapsed": true,
    "id": "888d112b-9c9a-4d79-ac42-70b262f7c170"
   },
   "outputs": [],
   "source": [
    "#PyPDFLoader 불러오기\n",
    "from langchain_community.document_loaders import PyPDFLoader\n",
    "\n",
    "# PDF파일 불러올 객체 PyPDFLoader 선언\n",
    "loader = PyPDFLoader(r\"/content/drive/MyDrive/마소캠퍼스/[이슈리포트 2022-2호] 혁신성장 정책금융 동향.pdf\")\n",
    "\n",
    "# PDF파일 로드 및 페이지별로 자르기\n",
    "pages = loader.load_and_split()\n",
    "print(pages[3])"
   ]
  },
  {
   "cell_type": "markdown",
   "id": "88c13e97-5654-4cda-814e-9fedae18a7d1",
   "metadata": {
    "editable": true,
    "id": "88c13e97-5654-4cda-814e-9fedae18a7d1",
    "tags": []
   },
   "source": [
    "**[이미지+텍스트 페이지 내 텍스트 추출]**"
   ]
  },
  {
   "cell_type": "code",
   "execution_count": null,
   "id": "818cbc30-89cf-42cf-8126-149dbd93c838",
   "metadata": {
    "id": "818cbc30-89cf-42cf-8126-149dbd93c838"
   },
   "outputs": [],
   "source": [
    "#PyPDFium2 설치\n",
    "pip install pypdfium2"
   ]
  },
  {
   "cell_type": "code",
   "execution_count": null,
   "id": "f938278c-e805-439e-a5b2-b46d8c017c96",
   "metadata": {
    "id": "f938278c-e805-439e-a5b2-b46d8c017c96"
   },
   "outputs": [],
   "source": [
    "#PyPDFium2 불러오기\n",
    "from langchain_community.document_loaders import PyPDFium2Loader\n",
    "\n",
    "# PDF파일 불러올 객체 PyPDFium2Loader 선언\n",
    "loader = PyPDFium2Loader(r\"C:\\Users\\gram\\Desktop\\Langchain\\DocumentLoader\\[이슈리포트 2022-2호] 혁신성장 정책금융 동향.pdf\")\n",
    "\n",
    "# PDF파일 로드 및 페이지별로 자르기(PyPDFium2는 load_and_split 함수 없이도 페이지별로 자름)\n",
    "data = loader.load()\n",
    "print(data[5].page_content)"
   ]
  },
  {
   "cell_type": "markdown",
   "id": "cf6b8063-0ebc-4f04-813e-36923913ae59",
   "metadata": {
    "id": "cf6b8063-0ebc-4f04-813e-36923913ae59"
   },
   "source": [
    "**[페이지 내 테이블 추출하기]**"
   ]
  },
  {
   "cell_type": "code",
   "execution_count": null,
   "id": "9c49eeaa-98ff-42b7-a0be-b38cd2714746",
   "metadata": {
    "id": "9c49eeaa-98ff-42b7-a0be-b38cd2714746"
   },
   "outputs": [],
   "source": [
    "#PyPDFium2 불러오기\n",
    "from langchain_community.document_loaders import PyPDFium2Loader\n",
    "\n",
    "# PDF파일 불러올 객체 PyPDFium2Loader 선언\n",
    "loader = PyPDFium2Loader(r\"C:\\Users\\gram\\Desktop\\Langchain\\DocumentLoader\\[이슈리포트 2022-2호] 혁신성장 정책금융 동향.pdf\")\n",
    "\n",
    "# PDF파일 로드 및 페이지별로 자르기(PyPDFium2는 load_and_split 함수 없이도 페이지별로 자름)\n",
    "data = loader.load()\n",
    "print(data[3].page_content)"
   ]
  },
  {
   "cell_type": "markdown",
   "id": "52fd214c-78b1-4cce-bc27-f09287f776bd",
   "metadata": {
    "id": "52fd214c-78b1-4cce-bc27-f09287f776bd"
   },
   "source": [
    "**[PyPDFLoader의 텍스트 추출 소요 시간]**"
   ]
  },
  {
   "cell_type": "code",
   "execution_count": null,
   "id": "acdfd02c-775a-4c5e-999c-001e4af7cce7",
   "metadata": {
    "id": "acdfd02c-775a-4c5e-999c-001e4af7cce7"
   },
   "outputs": [],
   "source": [
    "%%time\n",
    "from langchain_community.document_loaders import PyPDFLoader\n",
    "\n",
    "loader = PyPDFLoader(r\"C:\\Users\\gram\\Desktop\\Langchain\\DocumentLoader\\[이슈리포트 2022-2호] 혁신성장 정책금융 동향.pdf\")\n",
    "\n",
    "pages = loader.load_and_split()"
   ]
  },
  {
   "cell_type": "markdown",
   "id": "713f5efb-431a-4a29-a44d-92e76e3e28b9",
   "metadata": {
    "id": "713f5efb-431a-4a29-a44d-92e76e3e28b9"
   },
   "source": [
    "**[PyPDFium2의 텍스트 추출 소요 시간]**"
   ]
  },
  {
   "cell_type": "code",
   "execution_count": null,
   "id": "d65df790-fdb9-497c-974c-66789155d93b",
   "metadata": {
    "id": "d65df790-fdb9-497c-974c-66789155d93b"
   },
   "outputs": [],
   "source": [
    "%%time\n",
    "from langchain_community.document_loaders import PyPDFium2Loader\n",
    "\n",
    "loader = PyPDFium2Loader(r\"C:\\Users\\gram\\Desktop\\Langchain\\DocumentLoader\\[이슈리포트 2022-2호] 혁신성장 정책금융 동향.pdf\")\n",
    "\n",
    "pages = loader.load()"
   ]
  },
  {
   "cell_type": "markdown",
   "id": "1a1489b2-e7c2-4b67-8f16-140cb6190727",
   "metadata": {
    "id": "1a1489b2-e7c2-4b67-8f16-140cb6190727",
    "jp-MarkdownHeadingCollapsed": true
   },
   "source": [
    "## **Office file Loaders**"
   ]
  },
  {
   "cell_type": "markdown",
   "id": "dd75fdde-ab5a-4a3c-acb5-88f1a10a6c7e",
   "metadata": {
    "id": "dd75fdde-ab5a-4a3c-acb5-88f1a10a6c7e"
   },
   "source": [
    "### **Word 파일 불러오기**"
   ]
  },
  {
   "cell_type": "code",
   "execution_count": null,
   "id": "de50f54d-09a1-44a2-bce6-9ce8d3a3ebc1",
   "metadata": {
    "id": "de50f54d-09a1-44a2-bce6-9ce8d3a3ebc1"
   },
   "outputs": [],
   "source": [
    "#docx2txt 설치\n",
    "!pip install --upgrade --quiet  docx2txt"
   ]
  },
  {
   "cell_type": "code",
   "execution_count": null,
   "id": "0e907b8e-939d-4235-bfbd-c0473a63526a",
   "metadata": {
    "collapsed": true,
    "id": "0e907b8e-939d-4235-bfbd-c0473a63526a"
   },
   "outputs": [],
   "source": [
    "#Docx2txtLoader 불러오기\n",
    "from langchain_community.document_loaders import Docx2txtLoader\n",
    "\n",
    "#Docx2txtLoader로 워드 파일 불러오기(경로 설정)\n",
    "loader = Docx2txtLoader(r\"/content/drive/MyDrive/마소캠퍼스/[삼성전자] 사업보고서(일반법인) (2021.03.09).docx\")\n",
    "\n",
    "#페이지로 분할하여 불러오기\n",
    "data = loader.load_and_split()\n",
    "data[0]\n",
    "#첫번째 페이지 출력하기\n",
    "# print(data[12].page_content[:500])"
   ]
  },
  {
   "cell_type": "code",
   "execution_count": null,
   "id": "272c18ee-a9b1-4d64-9462-40302b7512d9",
   "metadata": {
    "collapsed": true,
    "id": "272c18ee-a9b1-4d64-9462-40302b7512d9"
   },
   "outputs": [],
   "source": [
    "print(data[12].page_content[:500])\n",
    "print(data[12].metadata)"
   ]
  },
  {
   "cell_type": "markdown",
   "id": "bf2ae9bf-f5da-42fc-9e88-c3f6339c140a",
   "metadata": {
    "id": "bf2ae9bf-f5da-42fc-9e88-c3f6339c140a"
   },
   "source": [
    "### **CSV 파일 불러오기**"
   ]
  },
  {
   "cell_type": "code",
   "execution_count": null,
   "id": "38fa5ae9-d1bf-454a-8ef5-3bb2fe0ac4ba",
   "metadata": {
    "id": "38fa5ae9-d1bf-454a-8ef5-3bb2fe0ac4ba"
   },
   "outputs": [],
   "source": [
    "from langchain_community.document_loaders.csv_loader import CSVLoader\n",
    "\n",
    "loader = CSVLoader(file_path=r\"/content/drive/MyDrive/마소캠퍼스/mlb_teams_2012.csv\")\n",
    "\n",
    "data = loader.load()\n",
    "\n",
    "data[0]"
   ]
  },
  {
   "cell_type": "markdown",
   "id": "2df9075f-14b1-4ddc-9aab-9599b8812fa9",
   "metadata": {
    "id": "2df9075f-14b1-4ddc-9aab-9599b8812fa9"
   },
   "source": [
    "### **PPT 파일 불러오기**"
   ]
  },
  {
   "cell_type": "code",
   "execution_count": null,
   "id": "6a14c919-20db-4d71-8b85-d0d49cbe6fea",
   "metadata": {
    "id": "6a14c919-20db-4d71-8b85-d0d49cbe6fea"
   },
   "outputs": [],
   "source": [
    "#pthon-pptx 패키지 설치\n",
    "!pip install -q python-pptx unstructured"
   ]
  },
  {
   "cell_type": "code",
   "execution_count": null,
   "id": "35acbded-7c46-4359-87e6-ebdda18baa9b",
   "metadata": {
    "id": "35acbded-7c46-4359-87e6-ebdda18baa9b"
   },
   "outputs": [],
   "source": [
    "#UnstructuredPowerPointLoader 불러오기\n",
    "from langchain_community.document_loaders import UnstructuredPowerPointLoader\n",
    "\n",
    "#mode=elements를 통해 pptx의 요소별로 Document 객체로 가져오기\n",
    "loader = UnstructuredPowerPointLoader(r\"/content/drive/MyDrive/마소캠퍼스/Copilot-scenarios-for-Marketing.pptx\", mode=\"elements\")\n",
    "\n",
    "#pptx 파일을 분할 로드하기\n",
    "data = loader.load_and_split()\n",
    "\n",
    "data[1]"
   ]
  },
  {
   "cell_type": "code",
   "execution_count": null,
   "id": "16ffa10a-9c8e-488c-a557-70a5bc5a7c2d",
   "metadata": {
    "id": "16ffa10a-9c8e-488c-a557-70a5bc5a7c2d"
   },
   "outputs": [],
   "source": [
    "for i in data:\n",
    "    if i.metadata['page_number'] == 2:\n",
    "        print(i.metadata['category'])\n",
    "        print(i.page_content)\n",
    "        print(\"\\n\")"
   ]
  },
  {
   "cell_type": "markdown",
   "id": "9126444e-bccd-4cb0-b8ae-168cc3e6bfef",
   "metadata": {
    "id": "9126444e-bccd-4cb0-b8ae-168cc3e6bfef",
    "jp-MarkdownHeadingCollapsed": true
   },
   "source": [
    "## **인터넷 정보 로드하기, WebBaseLoader**"
   ]
  },
  {
   "cell_type": "code",
   "execution_count": null,
   "id": "75043203-a8a8-4435-9094-60eb35e25b50",
   "metadata": {
    "id": "75043203-a8a8-4435-9094-60eb35e25b50"
   },
   "outputs": [],
   "source": [
    "from langchain_community.document_loaders import WebBaseLoader\n",
    "#텍스트 추출할 URL 입력\n",
    "loader = WebBaseLoader(\"https://www.espn.com/\")\n",
    "#ssl verification 에러 방지를 위한 코드\n",
    "loader.requests_kwargs = {'verify':False}\n",
    "data = loader.load()\n",
    "data"
   ]
  },
  {
   "cell_type": "markdown",
   "id": "4e75ccfd-fa87-4fc3-9c1d-3a51dbdbf5b9",
   "metadata": {
    "id": "4e75ccfd-fa87-4fc3-9c1d-3a51dbdbf5b9"
   },
   "source": [
    "**[Headline만 가져오기]**"
   ]
  },
  {
   "cell_type": "code",
   "execution_count": null,
   "id": "b8523021-be18-44be-854c-b3ed5a5a0a81",
   "metadata": {
    "id": "b8523021-be18-44be-854c-b3ed5a5a0a81"
   },
   "outputs": [],
   "source": [
    "import bs4\n",
    "from langchain_community.document_loaders import WebBaseLoader\n",
    "#텍스트 추출할 URL 입력\n",
    "loader = WebBaseLoader(\"https://www.espn.com/\",\n",
    "                        bs_kwargs=dict(\n",
    "                            parse_only=bs4.SoupStrainer(\n",
    "                                class_=(\"headlineStack top-headlines\")\n",
    "                                                        )\n",
    "                                        )\n",
    "                      )\n",
    "#ssl verification 에러 방지를 위한 코드\n",
    "loader.requests_kwargs = {'verify':False}\n",
    "data = loader.load()\n",
    "data"
   ]
  },
  {
   "cell_type": "code",
   "execution_count": null,
   "id": "c97813b5-dbd2-4501-a917-ab66550646fc",
   "metadata": {
    "collapsed": true,
    "id": "c97813b5-dbd2-4501-a917-ab66550646fc"
   },
   "outputs": [],
   "source": [
    "loader = WebBaseLoader([\"https://www.espn.com/\", \"https://google.com\"])\n",
    "docs = loader.load()\n",
    "docs"
   ]
  },
  {
   "cell_type": "markdown",
   "id": "2f961fc2-2c76-47ec-930a-475400901c9a",
   "metadata": {
    "id": "2f961fc2-2c76-47ec-930a-475400901c9a",
    "jp-MarkdownHeadingCollapsed": true
   },
   "source": [
    "## **특정 경로 내의 모든 파일 불러오기, DirectoryLoader**"
   ]
  },
  {
   "cell_type": "code",
   "execution_count": null,
   "id": "BamUu6N4cE92",
   "metadata": {
    "id": "BamUu6N4cE92"
   },
   "outputs": [],
   "source": [
    "pip install unstructured[pdf]"
   ]
  },
  {
   "cell_type": "code",
   "execution_count": null,
   "id": "d802f2d9-e9bc-479a-8820-af46f60a980e",
   "metadata": {
    "editable": true,
    "id": "d802f2d9-e9bc-479a-8820-af46f60a980e",
    "tags": []
   },
   "outputs": [],
   "source": [
    "from langchain_community.document_loaders import DirectoryLoader\n",
    "#첫번째 매개변수로 경로 입력, glob에 해당 경로에서 불러들일 파일의 형식 지정\n",
    "#*는 모든 문자를 표현하는 와일드카드로, .pdf로 끝나는 모든 파일을 의미함\n",
    "loader = DirectoryLoader(r'/content/drive/MyDrive/마소캠퍼스', glob=\"*.pdf\")\n",
    "docs = loader.load()\n",
    "[i.metadata['source'] for i in docs]"
   ]
  },
  {
   "cell_type": "markdown",
   "id": "efb419a2-211a-41e0-90e1-9c701c01521e",
   "metadata": {
    "editable": true,
    "id": "efb419a2-211a-41e0-90e1-9c701c01521e",
    "jp-MarkdownHeadingCollapsed": true,
    "tags": []
   },
   "source": [
    "## **Text Splitters**"
   ]
  },
  {
   "cell_type": "markdown",
   "id": "4b5883b1-6d4a-43f6-ab9c-328e1b80ca90",
   "metadata": {
    "id": "4b5883b1-6d4a-43f6-ab9c-328e1b80ca90"
   },
   "source": [
    "### **단순 글자수 기반 문서 분할, CharacterTextSplitter**"
   ]
  },
  {
   "cell_type": "markdown",
   "id": "c335e91c-58e5-47f4-bb8a-bc967fee39fc",
   "metadata": {
    "id": "c335e91c-58e5-47f4-bb8a-bc967fee39fc"
   },
   "source": [
    "**[Chunk Overlap 개념 알아보기]**"
   ]
  },
  {
   "cell_type": "code",
   "execution_count": null,
   "id": "2c420ced-d4ec-439b-84f0-889a9b3d1804",
   "metadata": {
    "id": "2c420ced-d4ec-439b-84f0-889a9b3d1804"
   },
   "outputs": [],
   "source": [
    "#Langchain Text Splitter 모듈 다운로드\n",
    "!pip install -q langchain-text-splitters"
   ]
  },
  {
   "cell_type": "code",
   "execution_count": null,
   "id": "20e29f9b-b2d4-45fd-b81e-ea75210c812b",
   "metadata": {
    "editable": true,
    "id": "20e29f9b-b2d4-45fd-b81e-ea75210c812b",
    "tags": []
   },
   "outputs": [],
   "source": [
    "#PyPDFium2Loader로 PDF 문서 로드하기\n",
    "from langchain_community.document_loaders import PyPDFLoader\n",
    "loader = PyPDFLoader(r\"/content/drive/MyDrive/마소캠퍼스/[이슈리포트 2022-2호] 혁신성장 정책금융 동향.pdf\")\n",
    "pages = loader.load()\n",
    "\n",
    "#CharacterTextSplitter 모듈 로드\n",
    "from langchain_text_splitters import CharacterTextSplitter\n",
    "\n",
    "#구분자: 줄넘김, 청크 길이: 500, 청크 오버랩: 100, length_function: 글자수\n",
    "text_splitter = CharacterTextSplitter(\n",
    "    separator=\"\\n\",\n",
    "    chunk_size=500,\n",
    "    chunk_overlap=100,\n",
    "    length_function=len\n",
    ")\n",
    "#텍스트 분할\n",
    "texts = text_splitter.split_documents(pages)\n",
    "print(texts[0])"
   ]
  },
  {
   "cell_type": "code",
   "execution_count": null,
   "id": "aa709fda-6a63-45b1-971a-8bcc107475f8",
   "metadata": {
    "id": "aa709fda-6a63-45b1-971a-8bcc107475f8"
   },
   "outputs": [],
   "source": [
    "print(texts[1])"
   ]
  },
  {
   "cell_type": "code",
   "execution_count": null,
   "id": "614fa8fb-cff7-4dfa-943c-c2d0715e0829",
   "metadata": {
    "id": "614fa8fb-cff7-4dfa-943c-c2d0715e0829"
   },
   "outputs": [],
   "source": [
    "loader = PyPDFLoader(r\"/content/drive/MyDrive/마소캠퍼스/[이슈리포트 2022-2호] 혁신성장 정책금융 동향.pdf\")\n",
    "\n",
    "pages = loader.load()\n",
    "\n",
    "from langchain_text_splitters import CharacterTextSplitter\n",
    "\n",
    "text_splitter = CharacterTextSplitter(\n",
    "    separator=\"\\n\",\n",
    "    chunk_size=500,\n",
    "    chunk_overlap=100,\n",
    "    length_function=len,\n",
    "    is_separator_regex=False,\n",
    ")\n",
    "\n",
    "texts = text_splitter.split_documents(pages)\n",
    "print([len(i.page_content) for i in texts])"
   ]
  },
  {
   "cell_type": "markdown",
   "id": "719080cf-36f3-4772-a28f-492e542f1e08",
   "metadata": {
    "id": "719080cf-36f3-4772-a28f-492e542f1e08"
   },
   "source": [
    "### **재귀적 문서 분할, RecursiveCharacterTextSplitter**"
   ]
  },
  {
   "cell_type": "code",
   "execution_count": null,
   "id": "0fc8c57b-3abd-45f9-8722-cf72afb124cd",
   "metadata": {
    "id": "0fc8c57b-3abd-45f9-8722-cf72afb124cd"
   },
   "outputs": [],
   "source": [
    "from langchain_community.document_loaders import PyPDFium2Loader\n",
    "\n",
    "loader = PyPDFLoader(r\"/content/drive/MyDrive/마소캠퍼스/[이슈리포트 2022-2호] 혁신성장 정책금융 동향.pdf\")\n",
    "\n",
    "pages = loader.load()\n",
    "\n",
    "from langchain_text_splitters import RecursiveCharacterTextSplitter\n",
    "\n",
    "text_splitter = RecursiveCharacterTextSplitter (\n",
    "    separators=[\"\\n\\n\", \"\\n\", \" \", \"\"],\n",
    "    chunk_size=500,\n",
    "    chunk_overlap=100,\n",
    "    length_function=len,\n",
    "    is_separator_regex=False,\n",
    ")\n",
    "\n",
    "texts = text_splitter.split_documents(pages)\n",
    "print([len(i.page_content) for i in texts])"
   ]
  },
  {
   "cell_type": "markdown",
   "id": "1396158d-0088-49a9-8e71-933a658682fd",
   "metadata": {
    "id": "1396158d-0088-49a9-8e71-933a658682fd"
   },
   "source": [
    "### **문맥 파악 통한 문서 분할, Semantic Chunker**"
   ]
  },
  {
   "cell_type": "code",
   "execution_count": null,
   "id": "aAsIG8c2loL4",
   "metadata": {
    "collapsed": true,
    "id": "aAsIG8c2loL4"
   },
   "outputs": [],
   "source": [
    "pip install langchain_experimental"
   ]
  },
  {
   "cell_type": "code",
   "execution_count": null,
   "id": "f397e74f-f051-43af-a776-e753c5e02bae",
   "metadata": {
    "id": "f397e74f-f051-43af-a776-e753c5e02bae"
   },
   "outputs": [],
   "source": [
    "from langchain_community.document_loaders import PyPDFLoader\n",
    "\n",
    "loader = PyPDFLoader(r\"/content/drive/MyDrive/마소캠퍼스/[이슈리포트 2022-2호] 혁신성장 정책금융 동향.pdf\")\n",
    "pages = loader.load()\n",
    "\n",
    "from langchain_experimental.text_splitter import SemanticChunker\n",
    "from langchain_openai.embeddings import OpenAIEmbeddings\n",
    "text_splitter = SemanticChunker(OpenAIEmbeddings(openai_api_key = \"YOUR_API_KEY\"))\n",
    "\n",
    "texts = text_splitter.split_documents(pages)\n",
    "print(\"-\"*100)\n",
    "print(\"[첫번째 청크]\")\n",
    "print(texts[0].page_content)\n",
    "print(\"-\"*100)\n",
    "print(\"[두번째 청크]\")\n",
    "print(texts[1].page_content)"
   ]
  },
  {
   "cell_type": "code",
   "execution_count": null,
   "id": "b2618bc2-0eb1-40e8-a772-fcc6efd6d6c4",
   "metadata": {
    "id": "b2618bc2-0eb1-40e8-a772-fcc6efd6d6c4"
   },
   "outputs": [],
   "source": [
    "print([len(i.page_content) for i in texts])"
   ]
  },
  {
   "cell_type": "markdown",
   "id": "7fb3f6bb-33ab-4a98-8a09-cc6119789d0e",
   "metadata": {
    "id": "7fb3f6bb-33ab-4a98-8a09-cc6119789d0e",
    "jp-MarkdownHeadingCollapsed": true
   },
   "source": [
    "## **문장을 숫자로 바꾸자, Text Embedding**"
   ]
  },
  {
   "cell_type": "markdown",
   "id": "141540b3-0729-427a-8356-573f78de0d69",
   "metadata": {
    "id": "141540b3-0729-427a-8356-573f78de0d69"
   },
   "source": [
    "### **OpenAI의 텍스트 임베딩 모델 활용하기**"
   ]
  },
  {
   "cell_type": "code",
   "execution_count": null,
   "id": "ffe8a179-d6e2-461b-bb5a-16751afcbb37",
   "metadata": {
    "colab": {
     "base_uri": "https://localhost:8080/"
    },
    "executionInfo": {
     "elapsed": 904,
     "status": "ok",
     "timestamp": 1721893440264,
     "user": {
      "displayName": "Kane",
      "userId": "04940649649331248050"
     },
     "user_tz": -540
    },
    "id": "ffe8a179-d6e2-461b-bb5a-16751afcbb37",
    "outputId": "ef080766-fde3-42ec-bb66-81624286de6a"
   },
   "outputs": [
    {
     "data": {
      "text/plain": [
       "(5, 1536)"
      ]
     },
     "execution_count": 31,
     "metadata": {},
     "output_type": "execute_result"
    }
   ],
   "source": [
    "import os\n",
    "from langchain_openai import OpenAIEmbeddings\n",
    "os.environ[\"OPENAI_API_KEY\"] = \"YOUR_API_KEY\"\n",
    "\n",
    "embeddings_model = OpenAIEmbeddings(model = 'text-embedding-3-small')\n",
    "embeddings = embeddings_model.embed_documents(\n",
    "    [\n",
    "        \"Hi there!\",\n",
    "        \"Oh, hello!\",\n",
    "        \"What's your name?\",\n",
    "        \"My friends call me World\",\n",
    "        \"Hello World!\"\n",
    "    ]\n",
    ")\n",
    "len(embeddings), len(embeddings[0])"
   ]
  },
  {
   "cell_type": "code",
   "execution_count": null,
   "id": "HAQPr7bb2aQv",
   "metadata": {
    "colab": {
     "base_uri": "https://localhost:8080/"
    },
    "collapsed": true,
    "executionInfo": {
     "elapsed": 416,
     "status": "ok",
     "timestamp": 1721893499561,
     "user": {
      "displayName": "Kane",
      "userId": "04940649649331248050"
     },
     "user_tz": -540
    },
    "id": "HAQPr7bb2aQv",
    "outputId": "98ad5762-4338-414c-9e83-44817096855f"
   },
   "outputs": [
    {
     "data": {
      "text/plain": [
       "[-0.019139237701892853,\n",
       " -0.03814302384853363,\n",
       " -0.03093702718615532,\n",
       " -0.004656130913645029,\n",
       " -0.03535273298621178,\n",
       " -0.003945012576878071,\n",
       " 0.013010076247155666,\n",
       " 0.05103796720504761,\n",
       " -0.005804079119116068,\n",
       " -0.0371948666870594,\n",
       " -0.010754816234111786,\n",
       " -0.00218076235614717,\n",
       " 0.02723921276628971,\n",
       " -0.002214625244960189,\n",
       " 0.005895508453249931,\n",
       " 0.03394404053688049,\n",
       " -0.016538577154278755,\n",
       " -0.01009787805378437,\n",
       " -0.03174973279237747,\n",
       " 0.07655695080757141,\n",
       " 0.05992355942726135,\n",
       " -0.018746430054306984,\n",
       " 0.0030154797714203596,\n",
       " 0.01899024099111557,\n",
       " 0.03979552909731865,\n",
       " 0.04578246548771858,\n",
       " 0.020845921710133553,\n",
       " 0.006549059879034758,\n",
       " 0.013355476781725883,\n",
       " -0.0047475602477788925,\n",
       " 0.029907599091529846,\n",
       " -0.022322338074445724,\n",
       " 0.006941867992281914,\n",
       " -0.024029022082686424,\n",
       " -0.015007980167865753,\n",
       " -0.0035488184075802565,\n",
       " -0.007524307817220688,\n",
       " 0.018123354762792587,\n",
       " -0.009671207517385483,\n",
       " -0.04250454902648926,\n",
       " 0.012102554552257061,\n",
       " -0.018732884898781776,\n",
       " 0.022308792918920517,\n",
       " -0.0016635085921734571,\n",
       " -0.030693216249346733,\n",
       " 0.031505923718214035,\n",
       " -0.01777118258178234,\n",
       " -0.017161652445793152,\n",
       " 0.015834230929613113,\n",
       " -0.0017270012758672237,\n",
       " -0.01202805619686842,\n",
       " 0.026291055604815483,\n",
       " -0.004537611268460751,\n",
       " 0.079049251973629,\n",
       " 0.051390141248703,\n",
       " -0.02653486654162407,\n",
       " 0.03164137154817581,\n",
       " 0.07541916519403458,\n",
       " 0.015603965148329735,\n",
       " -0.02635878138244152,\n",
       " 0.04678480327129364,\n",
       " -0.007578487973660231,\n",
       " 0.04264000058174133,\n",
       " 0.014791258610785007,\n",
       " 0.0064948792569339275,\n",
       " 0.014452630653977394,\n",
       " -0.006213818211108446,\n",
       " 0.02675158903002739,\n",
       " -0.030368132516741753,\n",
       " 0.006247681099921465,\n",
       " -0.003914536442607641,\n",
       " 0.033781498670578,\n",
       " 0.022769326344132423,\n",
       " -0.010179148986935616,\n",
       " 0.00679625803604722,\n",
       " 0.010558411478996277,\n",
       " -0.002116423100233078,\n",
       " -0.03803466260433197,\n",
       " -0.005506086628884077,\n",
       " -0.05466805770993233,\n",
       " -0.048626936972141266,\n",
       " 0.033320967108011246,\n",
       " -0.03383567929267883,\n",
       " -0.030286861583590508,\n",
       " -0.03551527485251427,\n",
       " -0.03174973279237747,\n",
       " -0.08284188061952591,\n",
       " -0.027157941833138466,\n",
       " -0.024692732840776443,\n",
       " -0.013043939135968685,\n",
       " 0.008763684891164303,\n",
       " 0.02141481637954712,\n",
       " -0.06279512494802475,\n",
       " -0.01590195670723915,\n",
       " 0.0026243648026138544,\n",
       " -0.038115933537483215,\n",
       " -0.04754332825541496,\n",
       " 0.018638068810105324,\n",
       " 0.03716777637600899,\n",
       " 0.006677738390862942,\n",
       " 0.05190485343337059,\n",
       " -0.03529855236411095,\n",
       " 0.013490927405655384,\n",
       " -0.016376035287976265,\n",
       " 0.05388244241476059,\n",
       " 0.019274689257144928,\n",
       " -0.0021892280783504248,\n",
       " 0.0027615090366452932,\n",
       " -0.045051030814647675,\n",
       " -0.005756671074777842,\n",
       " -0.11052808165550232,\n",
       " -0.020128030329942703,\n",
       " 0.009136175736784935,\n",
       " -0.023080864921212196,\n",
       " -0.00592937134206295,\n",
       " 0.007036683615297079,\n",
       " 0.05553494393825531,\n",
       " -0.05496605113148689,\n",
       " 0.015441423282027245,\n",
       " -0.046703532338142395,\n",
       " -0.02113036811351776,\n",
       " -0.008858500979840755,\n",
       " 0.03115374967455864,\n",
       " -0.027279848232865334,\n",
       " -0.04838312789797783,\n",
       " -0.006047890987247229,\n",
       " -0.012563087977468967,\n",
       " 0.020886557176709175,\n",
       " -0.018800610676407814,\n",
       " -0.02950124628841877,\n",
       " 0.057214535772800446,\n",
       " 0.009217445738613605,\n",
       " -0.016321854665875435,\n",
       " 0.0012647744733840227,\n",
       " -0.0425858199596405,\n",
       " -0.03494637832045555,\n",
       " 0.004344593267887831,\n",
       " 0.02966378629207611,\n",
       " -0.04608045890927315,\n",
       " -0.007822300307452679,\n",
       " 0.04767877981066704,\n",
       " -0.02912198193371296,\n",
       " 0.03229153901338577,\n",
       " -0.003029024926945567,\n",
       " -0.041908565908670425,\n",
       " -0.028146734461188316,\n",
       " 0.01213641744107008,\n",
       " 0.03532564267516136,\n",
       " -0.049737635999917984,\n",
       " -0.012908488512039185,\n",
       " 0.0015678462805226445,\n",
       " 0.05309682339429855,\n",
       " -0.0352172814309597,\n",
       " 0.013341931626200676,\n",
       " 0.004046601243317127,\n",
       " 0.003691042074933648,\n",
       " -0.004049987532198429,\n",
       " 0.02549189329147339,\n",
       " -0.007043456193059683,\n",
       " 0.029636697843670845,\n",
       " 0.03605707734823227,\n",
       " 0.029257433488965034,\n",
       " 0.018069174140691757,\n",
       " -0.024150928482413292,\n",
       " -0.005401112139225006,\n",
       " 0.012894943356513977,\n",
       " -0.025302262976765633,\n",
       " 0.011012173257768154,\n",
       " -0.043506886810064316,\n",
       " -0.021103277802467346,\n",
       " 0.008729822002351284,\n",
       " 0.021171003580093384,\n",
       " -0.024245744571089745,\n",
       " -0.005079415626823902,\n",
       " -0.02603369764983654,\n",
       " -0.010639682412147522,\n",
       " 0.05602256953716278,\n",
       " -0.03890155255794525,\n",
       " -0.026182694360613823,\n",
       " -0.015373697504401207,\n",
       " 0.029474155977368355,\n",
       " 0.03841392695903778,\n",
       " -0.0018963151378557086,\n",
       " 0.011635247617959976,\n",
       " -0.051986124366521835,\n",
       " -0.007727484218776226,\n",
       " -0.04518648236989975,\n",
       " 0.022660966962575912,\n",
       " -0.036138348281383514,\n",
       " -0.03762831166386604,\n",
       " -0.00397887546569109,\n",
       " 0.03686978295445442,\n",
       " -0.016633393242955208,\n",
       " 0.025220992043614388,\n",
       " 0.036734335124492645,\n",
       " -0.05510149896144867,\n",
       " 0.07103054970502853,\n",
       " -0.011621702462434769,\n",
       " -0.02526162751019001,\n",
       " -0.012312503531575203,\n",
       " 0.025329353287816048,\n",
       " -0.05079415440559387,\n",
       " 0.0021367408335208893,\n",
       " -0.03185809403657913,\n",
       " 0.003951785154640675,\n",
       " -0.02515326626598835,\n",
       " -0.03784503415226936,\n",
       " 0.03345641866326332,\n",
       " 0.013030393980443478,\n",
       " -0.02400193177163601,\n",
       " 0.0625242218375206,\n",
       " 0.00976602267473936,\n",
       " -0.008452147245407104,\n",
       " 0.030557764694094658,\n",
       " 0.0031475445721298456,\n",
       " -0.025464802980422974,\n",
       " 0.05485768988728523,\n",
       " 0.012278640642762184,\n",
       " 0.03210190683603287,\n",
       " 0.026209784671664238,\n",
       " 0.00035619401023723185,\n",
       " 0.034810926765203476,\n",
       " 0.08522582054138184,\n",
       " 0.022146252915263176,\n",
       " 0.04171893373131752,\n",
       " -0.007761347107589245,\n",
       " 0.016105134040117264,\n",
       " -0.03551527485251427,\n",
       " 0.028851080685853958,\n",
       " 0.008899136446416378,\n",
       " 0.03099120780825615,\n",
       " 0.014005642384290695,\n",
       " -0.013463838025927544,\n",
       " -0.01397855207324028,\n",
       " 0.006887687370181084,\n",
       " 0.02355494350194931,\n",
       " 0.030015960335731506,\n",
       " -0.024530190974473953,\n",
       " 0.04139384999871254,\n",
       " 0.0037858576979488134,\n",
       " -0.005915826186537743,\n",
       " 0.006129161454737186,\n",
       " 0.015454968437552452,\n",
       " 0.03757413104176521,\n",
       " 0.013111664913594723,\n",
       " -0.03600289672613144,\n",
       " 0.004784809425473213,\n",
       " -0.04935837537050247,\n",
       " -0.012373456731438637,\n",
       " 0.04637845233082771,\n",
       " 0.039605896919965744,\n",
       " 0.01920696347951889,\n",
       " -0.0037147458642721176,\n",
       " -0.004913487937301397,\n",
       " -0.013910826295614243,\n",
       " 0.04656808078289032,\n",
       " 0.01268499344587326,\n",
       " 0.014899618923664093,\n",
       " -0.0033507212065160275,\n",
       " -0.017270013689994812,\n",
       " -0.007294040638953447,\n",
       " -0.04865402728319168,\n",
       " -0.025139721110463142,\n",
       " -0.05602256953716278,\n",
       " -0.020832376554608345,\n",
       " -0.034702569246292114,\n",
       " 0.02482818439602852,\n",
       " 0.03280625119805336,\n",
       " -0.057377077639102936,\n",
       " -0.01997903548181057,\n",
       " -0.0028901875484734774,\n",
       " 0.009982745163142681,\n",
       " 0.06501652300357819,\n",
       " -0.005472223740071058,\n",
       " 0.0031204542610794306,\n",
       " 0.034865107387304306,\n",
       " 0.0004664596635848284,\n",
       " -0.013721195049583912,\n",
       " 0.016755299642682076,\n",
       " 0.02950124628841877,\n",
       " -0.00872304942458868,\n",
       " 0.011662337929010391,\n",
       " 0.015671690925955772,\n",
       " -0.0052284118719398975,\n",
       " -0.03649052232503891,\n",
       " 0.026670318096876144,\n",
       " -0.007964523509144783,\n",
       " 0.012982985936105251,\n",
       " 0.002536321524530649,\n",
       " 0.017513824626803398,\n",
       " 0.02134709060192108,\n",
       " -0.03733031824231148,\n",
       " 0.03681560605764389,\n",
       " 0.007605578284710646,\n",
       " -0.014764168299734592,\n",
       " 0.014127547852694988,\n",
       " -0.004283640533685684,\n",
       " -0.015996772795915604,\n",
       " 0.017581550404429436,\n",
       " 0.008208335377275944,\n",
       " 0.038386836647987366,\n",
       " -0.0038366520311683416,\n",
       " 0.010863176546990871,\n",
       " 0.009217445738613605,\n",
       " -0.02190244011580944,\n",
       " 0.04223364591598511,\n",
       " -0.002514310646802187,\n",
       " 0.01541433297097683,\n",
       " -0.008397967554628849,\n",
       " 0.00886527355760336,\n",
       " -0.020073849707841873,\n",
       " -0.0007729177596047521,\n",
       " 0.07498572021722794,\n",
       " -0.05434297397732735,\n",
       " -0.014506811276078224,\n",
       " 0.0042463913559913635,\n",
       " 0.01855679787695408,\n",
       " 0.02035829797387123,\n",
       " 0.039714258164167404,\n",
       " -0.02312150038778782,\n",
       " 0.02448955550789833,\n",
       " -0.034919288009405136,\n",
       " 0.0060512772761285305,\n",
       " -0.025193901732563972,\n",
       " -0.017310649156570435,\n",
       " 0.00369442836381495,\n",
       " 0.07086800783872604,\n",
       " -0.011113760992884636,\n",
       " 0.01084285881370306,\n",
       " -0.012617268599569798,\n",
       " 0.02901362255215645,\n",
       " -0.03250826150178909,\n",
       " 0.03361896052956581,\n",
       " -0.010104650631546974,\n",
       " -0.0047611054033041,\n",
       " 0.011662337929010391,\n",
       " -0.01013174094259739,\n",
       " 0.025667980313301086,\n",
       " -0.005424815695732832,\n",
       " 0.03500055894255638,\n",
       " -0.04849148914217949,\n",
       " -0.0420440174639225,\n",
       " -0.0256950706243515,\n",
       " -0.0012622347567230463,\n",
       " -0.005932757630944252,\n",
       " -0.0025938882026821375,\n",
       " 0.01164202019572258,\n",
       " 0.014141093008220196,\n",
       " -0.034756746143102646,\n",
       " 0.006698056124150753,\n",
       " 0.0004175702924840152,\n",
       " 0.025004269555211067,\n",
       " -0.012116099707782269,\n",
       " -0.05537240207195282,\n",
       " -0.01584777608513832,\n",
       " 0.005634765140712261,\n",
       " 0.06014028191566467,\n",
       " -0.025085540488362312,\n",
       " -0.026047242805361748,\n",
       " 0.0265890471637249,\n",
       " -0.042071107774972916,\n",
       " -0.039389174431562424,\n",
       " 0.010490686632692814,\n",
       " -0.027767471969127655,\n",
       " 0.004215914756059647,\n",
       " 0.044725947082042694,\n",
       " -0.03099120780825615,\n",
       " -0.0017210752703249454,\n",
       " 0.010389097966253757,\n",
       " 0.028796900063753128,\n",
       " -0.0064203813672065735,\n",
       " -0.026602592319250107,\n",
       " -0.012298958376049995,\n",
       " 0.016362490132451057,\n",
       " -0.013545108027756214,\n",
       " -0.019681042060256004,\n",
       " 0.007781664840877056,\n",
       " -0.0046154954470694065,\n",
       " 0.03166846185922623,\n",
       " 0.028038373216986656,\n",
       " 0.0548035092651844,\n",
       " 0.04524066299200058,\n",
       " -0.004588405601680279,\n",
       " -0.023582033812999725,\n",
       " 0.03770958259701729,\n",
       " 0.01072772592306137,\n",
       " 0.01678238995373249,\n",
       " -0.0420440174639225,\n",
       " -0.022972503677010536,\n",
       " 0.02378520928323269,\n",
       " 0.08701377362012863,\n",
       " -0.011675883084535599,\n",
       " 0.03565072640776634,\n",
       " -0.01683656871318817,\n",
       " -0.02950124628841877,\n",
       " -0.029149072244763374,\n",
       " 0.02895944193005562,\n",
       " 0.04870820790529251,\n",
       " -0.02774038165807724,\n",
       " -0.04353397712111473,\n",
       " 0.03323969617486,\n",
       " -0.023351766169071198,\n",
       " -0.03391695022583008,\n",
       " 0.0061528654769063,\n",
       " 0.04182729497551918,\n",
       " 0.014100457541644573,\n",
       " -0.022525515407323837,\n",
       " 0.009793112985789776,\n",
       " 0.017811818048357964,\n",
       " -0.03193936496973038,\n",
       " 0.020398933440446854,\n",
       " -0.0443737730383873,\n",
       " 0.03009723126888275,\n",
       " -0.013965006917715073,\n",
       " 0.03554236516356468,\n",
       " -0.00238055270165205,\n",
       " 0.013551880605518818,\n",
       " -0.018976695835590363,\n",
       " -0.008221880532801151,\n",
       " -0.042179469019174576,\n",
       " 0.008045794442296028,\n",
       " 0.016416670754551888,\n",
       " 0.002346690045669675,\n",
       " 0.02723921276628971,\n",
       " -0.011127306148409843,\n",
       " -0.0065524461679160595,\n",
       " 0.010179148986935616,\n",
       " -0.057106178253889084,\n",
       " -0.004310730844736099,\n",
       " -0.05596838891506195,\n",
       " -0.020873012021183968,\n",
       " 0.006698056124150753,\n",
       " 0.018529707565903664,\n",
       " 0.019328869879245758,\n",
       " -0.03751995041966438,\n",
       " -0.0023365311790257692,\n",
       " -0.004629040602594614,\n",
       " -0.004838990047574043,\n",
       " 0.02080528624355793,\n",
       " 0.0030493424274027348,\n",
       " -0.01180456206202507,\n",
       " -0.024530190974473953,\n",
       " 0.027672655880451202,\n",
       " 0.010585501790046692,\n",
       " 0.012387001886963844,\n",
       " -0.01645730622112751,\n",
       " 0.017188742756843567,\n",
       " 0.00397887546569109,\n",
       " -0.03770958259701729,\n",
       " 1.814832830859814e-05,\n",
       " -0.024340558797121048,\n",
       " -0.0005176771082915366,\n",
       " 0.004527452401816845,\n",
       " 0.05455969646573067,\n",
       " -0.009197128936648369,\n",
       " 0.02274223603308201,\n",
       " -0.04272127151489258,\n",
       " -0.004717084113508463,\n",
       " 0.0477871410548687,\n",
       " -0.0386306494474411,\n",
       " 0.039334993809461594,\n",
       " 0.04261291027069092,\n",
       " 0.012068691663444042,\n",
       " 0.02988050878047943,\n",
       " -0.04486139863729477,\n",
       " -0.006071595009416342,\n",
       " 0.020873012021183968,\n",
       " 0.03188518434762955,\n",
       " -0.028986532241106033,\n",
       " -0.04925001412630081,\n",
       " 0.0063628144562244415,\n",
       " 0.007172134704887867,\n",
       " 0.05808142572641373,\n",
       " -0.004056760109961033,\n",
       " -0.02801128476858139,\n",
       " -0.025844067335128784,\n",
       " -0.01855679787695408,\n",
       " 0.01888188160955906,\n",
       " -0.0224577896296978,\n",
       " -0.04610754922032356,\n",
       " 0.030611945316195488,\n",
       " 0.06225331872701645,\n",
       " 0.012624041177332401,\n",
       " 0.05808142572641373,\n",
       " 0.016199950128793716,\n",
       " -0.02394775114953518,\n",
       " 0.004530838690698147,\n",
       " 0.034377485513687134,\n",
       " -0.009840521030128002,\n",
       " 0.026128513738512993,\n",
       " -0.039334993809461594,\n",
       " 0.07233087718486786,\n",
       " 0.080132856965065,\n",
       " -0.014452630653977394,\n",
       " -0.026399416849017143,\n",
       " -0.017865998670458794,\n",
       " 0.006325565744191408,\n",
       " 0.014601626433432102,\n",
       " -0.0375470407307148,\n",
       " -0.003244053339585662,\n",
       " 0.015658145770430565,\n",
       " -0.04410287365317345,\n",
       " 0.0018658386543393135,\n",
       " 0.035027649253606796,\n",
       " 0.06777971982955933,\n",
       " -0.00014920782996341586,\n",
       " -0.050225261598825455,\n",
       " -0.002214625244960189,\n",
       " 0.012170279398560524,\n",
       " -0.02719857729971409,\n",
       " -0.014804803766310215,\n",
       " -0.006267998833209276,\n",
       " -0.014425540342926979,\n",
       " -0.04608045890927315,\n",
       " -0.03900991007685661,\n",
       " 0.008858500979840755,\n",
       " 0.03405240178108215,\n",
       " 0.014290088787674904,\n",
       " -0.01931532472372055,\n",
       " -0.028607267886400223,\n",
       " 0.024015476927161217,\n",
       " 0.027875833213329315,\n",
       " 0.0061257751658558846,\n",
       " -0.0020639358554035425,\n",
       " 0.023080864921212196,\n",
       " -0.0023297586012631655,\n",
       " -0.047136977314949036,\n",
       " -0.027442390099167824,\n",
       " -0.020222846418619156,\n",
       " 0.02240360900759697,\n",
       " 0.002084253588691354,\n",
       " -0.016701119020581245,\n",
       " -0.02481463924050331,\n",
       " 0.020128030329942703,\n",
       " -0.007869708351790905,\n",
       " -0.01317939069122076,\n",
       " -0.010524549521505833,\n",
       " 0.007558170240372419,\n",
       " -0.01750027947127819,\n",
       " -0.04987308755517006,\n",
       " 0.00726695079356432,\n",
       " 0.0423961877822876,\n",
       " 0.0074227191507816315,\n",
       " -0.0050116898491978645,\n",
       " 0.006454244256019592,\n",
       " 0.025139721110463142,\n",
       " 0.024570826441049576,\n",
       " -0.01947786659002304,\n",
       " 0.019748767837882042,\n",
       " 0.01634894497692585,\n",
       " 0.008045794442296028,\n",
       " -0.03248117119073868,\n",
       " 0.008695959113538265,\n",
       " 0.010382325388491154,\n",
       " 0.030611945316195488,\n",
       " -0.008756912313401699,\n",
       " 0.006847052369266748,\n",
       " -0.013111664913594723,\n",
       " 0.027171486988663673,\n",
       " 0.04326307401061058,\n",
       " -0.00033926262403838336,\n",
       " 0.006308634299784899,\n",
       " 0.00601402809843421,\n",
       " 0.03781794384121895,\n",
       " -0.006508424412459135,\n",
       " 0.030693216249346733,\n",
       " 0.0024618234019726515,\n",
       " 0.011100215837359428,\n",
       " 0.0018031925428658724,\n",
       " -0.02085946686565876,\n",
       " -0.04182729497551918,\n",
       " -0.021563813090324402,\n",
       " -0.041529301553964615,\n",
       " -0.061386432498693466,\n",
       " 0.04155639186501503,\n",
       " -0.0006311173783615232,\n",
       " 0.02734757401049137,\n",
       " 0.013375794515013695,\n",
       " -0.0042768679559230804,\n",
       " 0.02096782810986042,\n",
       " 0.0005697411252185702,\n",
       " -0.01717519760131836,\n",
       " -0.0013435054570436478,\n",
       " -0.022769326344132423,\n",
       " -0.030341042205691338,\n",
       " 0.007544625084847212,\n",
       " -0.014005642384290695,\n",
       " -0.002234942978248,\n",
       " 0.010748043656349182,\n",
       " 0.0033930495847016573,\n",
       " 0.01712101697921753,\n",
       " -0.01105958130210638,\n",
       " -0.00996242742985487,\n",
       " 0.0459991879761219,\n",
       " 0.00803224928677082,\n",
       " -0.03435039520263672,\n",
       " -0.0371948666870594,\n",
       " -0.03741158917546272,\n",
       " -0.03957880660891533,\n",
       " 0.01067354530096054,\n",
       " 0.0035251143854111433,\n",
       " -0.0064745619893074036,\n",
       " -0.012407319620251656,\n",
       " -0.047407880425453186,\n",
       " -0.0007225468871183693,\n",
       " 0.04710988700389862,\n",
       " -0.021428361535072327,\n",
       " 0.0009481575689278543,\n",
       " -0.01013174094259739,\n",
       " 0.0017388532869517803,\n",
       " -0.0055704256519675255,\n",
       " 0.015766505151987076,\n",
       " -0.003938240464776754,\n",
       " -0.048681117594242096,\n",
       " -0.007470127195119858,\n",
       " 0.002778440248221159,\n",
       " -0.03743867948651314,\n",
       " 0.017107471823692322,\n",
       " 0.004855921491980553,\n",
       " 0.01392437145113945,\n",
       " -0.004927033092826605,\n",
       " -0.025329353287816048,\n",
       " -0.0007288961205631495,\n",
       " 0.033429328352212906,\n",
       " 0.005783761385828257,\n",
       " 0.021265819668769836,\n",
       " -0.013206481002271175,\n",
       " -0.03093702718615532,\n",
       " 0.011262757703661919,\n",
       " 0.0061257751658558846,\n",
       " 0.004530838690698147,\n",
       " -0.005556880496442318,\n",
       " 0.023920660838484764,\n",
       " -0.03551527485251427,\n",
       " -0.028634358197450638,\n",
       " -0.010348462499678135,\n",
       " -0.011614929884672165,\n",
       " 0.003291461383923888,\n",
       " 0.0072127701714634895,\n",
       " -0.024367649108171463,\n",
       " 0.03548818454146385,\n",
       " -0.0026937834918498993,\n",
       " -0.0035251143854111433,\n",
       " -0.029094893485307693,\n",
       " 0.014032731764018536,\n",
       " 0.04518648236989975,\n",
       " -0.009725388139486313,\n",
       " 0.04992726817727089,\n",
       " -0.001523824641481042,\n",
       " -0.012949123978614807,\n",
       " 0.05046907439827919,\n",
       " -0.016660483554005623,\n",
       " -0.003968716599047184,\n",
       " -0.02035829797387123,\n",
       " -0.017378373071551323,\n",
       " -0.01920696347951889,\n",
       " -0.005032007582485676,\n",
       " -0.0033270171843469143,\n",
       " -0.04282963275909424,\n",
       " 0.019410140812397003,\n",
       " 0.009569618850946426,\n",
       " 0.048952020704746246,\n",
       " -0.036246709525585175,\n",
       " -0.011865515261888504,\n",
       " -0.009115858003497124,\n",
       " 0.02136063575744629,\n",
       " 0.004358138423413038,\n",
       " -0.022986048832535744,\n",
       " -0.0076394411735236645,\n",
       " 0.028607267886400223,\n",
       " 0.008580826222896576,\n",
       " 0.029799237847328186,\n",
       " 0.0567810945212841,\n",
       " -0.04597209766507149,\n",
       " 0.0063932910561561584,\n",
       " 0.014384904876351357,\n",
       " 0.011106988415122032,\n",
       " -0.026020152494311333,\n",
       " -0.005197935272008181,\n",
       " -0.015874866396188736,\n",
       " 0.007558170240372419,\n",
       " -0.01861097849905491,\n",
       " 0.004717084113508463,\n",
       " -0.00569910416379571,\n",
       " -0.0016584291588515043,\n",
       " 0.006102071143686771,\n",
       " 0.02053438499569893,\n",
       " -0.010741271078586578,\n",
       " -0.014750623144209385,\n",
       " 0.026060787960886955,\n",
       " -0.025830522179603577,\n",
       " -0.00801193155348301,\n",
       " 0.009156493470072746,\n",
       " -0.02389357052743435,\n",
       " 0.010748043656349182,\n",
       " -0.03909118101000786,\n",
       " 0.006223977077752352,\n",
       " -0.021699262782931328,\n",
       " 0.022254612296819687,\n",
       " -0.05445133522152901,\n",
       " -0.011797789484262466,\n",
       " -0.021753443405032158,\n",
       " -0.01411400269716978,\n",
       " 0.016199950128793716,\n",
       " -0.00883141066879034,\n",
       " -0.00881109293550253,\n",
       " -0.05437006428837776,\n",
       " -0.005394339561462402,\n",
       " 0.013660241849720478,\n",
       " 0.032616619020700455,\n",
       " -0.039443355053663254,\n",
       " 0.00579053396359086,\n",
       " -0.039660077542066574,\n",
       " -0.001040433649905026,\n",
       " -0.027726836502552032,\n",
       " -0.01778472773730755,\n",
       " -0.0040669189766049385,\n",
       " -0.052257027477025986,\n",
       " 0.03229153901338577,\n",
       " -0.035813264548778534,\n",
       " -0.002478754846379161,\n",
       " -0.003166169160977006,\n",
       " -0.01893606223165989,\n",
       " -0.01485898345708847,\n",
       " -0.006295089144259691,\n",
       " -0.016389580443501472,\n",
       " -0.03649052232503891,\n",
       " -0.0067894854582846165,\n",
       " -0.009041359648108482,\n",
       " -0.004371683578938246,\n",
       " 0.009705070406198502,\n",
       " -0.02912198193371296,\n",
       " 0.02603369764983654,\n",
       " 0.010023379698395729,\n",
       " 0.04226073622703552,\n",
       " -0.008750139735639095,\n",
       " -0.03562363609671593,\n",
       " -0.046920254826545715,\n",
       " 0.0019657339435070753,\n",
       " -0.04193565621972084,\n",
       " -0.03253535181283951,\n",
       " 0.003992420621216297,\n",
       " 0.031126659363508224,\n",
       " -0.023649759590625763,\n",
       " 0.02757783979177475,\n",
       " 0.012563087977468967,\n",
       " 0.011411753483116627,\n",
       " 0.00662017147988081,\n",
       " -0.05491187050938606,\n",
       " -0.03383567929267883,\n",
       " -0.009515438228845596,\n",
       " 0.01013174094259739,\n",
       " -0.0013942995574325323,\n",
       " 0.015996772795915604,\n",
       " 0.013091347180306911,\n",
       " -0.011547205038368702,\n",
       " 0.01595613732933998,\n",
       " -0.014493266120553017,\n",
       " 0.0038197205867618322,\n",
       " -0.0021536722779273987,\n",
       " -0.006830120924860239,\n",
       " 0.01416818331927061,\n",
       " -0.013524790294468403,\n",
       " -0.002642989158630371,\n",
       " -0.008418284356594086,\n",
       " 0.012502134777605534,\n",
       " -0.0018184308428317308,\n",
       " 0.019410140812397003,\n",
       " -0.034648388624191284,\n",
       " -0.0036808832082897425,\n",
       " 0.03551527485251427,\n",
       " -0.028823990374803543,\n",
       " -0.0027225667145103216,\n",
       " -0.004744173958897591,\n",
       " 0.017879543825984,\n",
       " -0.034810926765203476,\n",
       " 0.0008139763376675546,\n",
       " 0.028200915083289146,\n",
       " -0.013551880605518818,\n",
       " -0.017026200890541077,\n",
       " 0.0006133394199423492,\n",
       " 0.02828218601644039,\n",
       " 0.007131499703973532,\n",
       " 0.022633876651525497,\n",
       " -0.014506811276078224,\n",
       " -0.039605896919965744,\n",
       " 0.01128307543694973,\n",
       " 0.022471334785223007,\n",
       " 0.001979278866201639,\n",
       " -0.007239860482513905,\n",
       " -0.01042973343282938,\n",
       " -0.043506886810064316,\n",
       " 0.01931532472372055,\n",
       " -0.01595613732933998,\n",
       " 0.021279364824295044,\n",
       " 0.03351059928536415,\n",
       " -0.017161652445793152,\n",
       " -0.005550107918679714,\n",
       " 0.005797306541353464,\n",
       " 0.04068950563669205,\n",
       " -0.04613463953137398,\n",
       " -0.012705311179161072,\n",
       " 0.013639924116432667,\n",
       " 0.031451743096113205,\n",
       " 0.02574925124645233,\n",
       " 0.015509149059653282,\n",
       " -0.03584035485982895,\n",
       " 0.008093202486634254,\n",
       " -0.015102795325219631,\n",
       " -0.021157458424568176,\n",
       " 0.0009202208020724356,\n",
       " 0.006914777681231499,\n",
       " 0.006532128434628248,\n",
       " -0.01072772592306137,\n",
       " 0.02564089000225067,\n",
       " 0.0047611054033041,\n",
       " 0.04022897034883499,\n",
       " -0.017974358052015305,\n",
       " 0.05201321467757225,\n",
       " -0.009102312847971916,\n",
       " 0.04226073622703552,\n",
       " 0.01359251607209444,\n",
       " -0.0030561150051653385,\n",
       " -0.020019670948386192,\n",
       " 0.020168665796518326,\n",
       " 0.014208818785846233,\n",
       " 0.03692396357655525,\n",
       " 0.004943964537233114,\n",
       " 0.02574925124645233,\n",
       " -0.05986937880516052,\n",
       " 0.0002916431112680584,\n",
       " -0.02035829797387123,\n",
       " -0.019464321434497833,\n",
       " -0.03131629154086113,\n",
       " 0.013653469271957874,\n",
       " 0.042179469019174576,\n",
       " 0.0012021283619105816,\n",
       " -0.02360912412405014,\n",
       " 0.009833748452365398,\n",
       " 0.002316213445737958,\n",
       " 0.03397113084793091,\n",
       " 0.0030239454936236143,\n",
       " 0.025058450177311897,\n",
       " -0.007930660620331764,\n",
       " -0.019572680816054344,\n",
       " -0.007652986329048872,\n",
       " 0.017188742756843567,\n",
       " -0.03589453548192978,\n",
       " -0.009346124716103077,\n",
       " 0.017215833067893982,\n",
       " -0.03724904730916023,\n",
       " -0.026981854811310768,\n",
       " 0.03716777637600899,\n",
       " -0.019857129082083702,\n",
       " 0.002510924357920885,\n",
       " 0.005285978317260742,\n",
       " 0.00015037186676636338,\n",
       " -0.005387566983699799,\n",
       " -0.006511810701340437,\n",
       " -0.012624041177332401,\n",
       " -0.0006107997032813728,\n",
       " 0.01926114410161972,\n",
       " 0.03402531147003174,\n",
       " -0.013104892335832119,\n",
       " 0.023040229454636574,\n",
       " -0.027537204325199127,\n",
       " 0.018908971920609474,\n",
       " -0.011872287839651108,\n",
       " 0.015549784526228905,\n",
       " 0.00594291603192687,\n",
       " -0.027008945122361183,\n",
       " -0.006088525988161564,\n",
       " 0.0069486405700445175,\n",
       " -0.011052808724343777,\n",
       " 0.025139721110463142,\n",
       " 0.03676142543554306,\n",
       " -0.03099120780825615,\n",
       " 0.021672172471880913,\n",
       " 0.0009430781356059015,\n",
       " -0.018407803028821945,\n",
       " 0.04342561587691307,\n",
       " 0.024191563948988914,\n",
       " -0.025938881561160088,\n",
       " -0.0034743202850222588,\n",
       " 0.00929871667176485,\n",
       " -0.0030120934825390577,\n",
       " 0.004392001312226057,\n",
       " 0.0047475602477788925,\n",
       " -0.016091588884592056,\n",
       " 0.008411511778831482,\n",
       " -0.01622704043984413,\n",
       " -0.02685995027422905,\n",
       " -0.02833636663854122,\n",
       " -0.016159314662218094,\n",
       " -0.007368538994342089,\n",
       " -0.011784244328737259,\n",
       " -0.030666125938296318,\n",
       " 0.0008694266434758902,\n",
       " 0.0071382722817361355,\n",
       " 0.0036808832082897425,\n",
       " -0.0038061754312366247,\n",
       " 0.008005158975720406,\n",
       " -0.005868418142199516,\n",
       " 0.00900072418153286,\n",
       " 0.0073753115721046925,\n",
       " 0.026101423427462578,\n",
       " 0.006833507213741541,\n",
       " 0.023026684299111366,\n",
       " 0.006955413147807121,\n",
       " -0.013423202559351921,\n",
       " 0.008736594580113888,\n",
       " -0.03158719092607498,\n",
       " 0.004371683578938246,\n",
       " 0.02015512064099312,\n",
       " 0.007294040638953447,\n",
       " 0.027645565569400787,\n",
       " -0.021171003580093384,\n",
       " 0.028986532241106033,\n",
       " -0.0043039582669734955,\n",
       " 0.020764650776982307,\n",
       " -0.0046730623580515385,\n",
       " -0.039714258164167404,\n",
       " 0.04215237870812416,\n",
       " 0.019626861438155174,\n",
       " 0.0025515598244965076,\n",
       " -0.0007708013290539384,\n",
       " -0.015888411551713943,\n",
       " 0.028471818193793297,\n",
       " -0.01584777608513832,\n",
       " 0.0194914098829031,\n",
       " -0.016985565423965454,\n",
       " 0.029636697843670845,\n",
       " -0.0009650889551267028,\n",
       " -0.00040444848127663136,\n",
       " 0.013951461762189865,\n",
       " -0.005052325315773487,\n",
       " -0.03792630136013031,\n",
       " 0.011147623881697655,\n",
       " 0.007531080394983292,\n",
       " -0.05464096739888191,\n",
       " 0.006267998833209276,\n",
       " -0.020331207662820816,\n",
       " 0.02779456228017807,\n",
       " -0.0170668363571167,\n",
       " 0.02366330474615097,\n",
       " 0.025518983602523804,\n",
       " -0.020547930151224136,\n",
       " 0.007632668595761061,\n",
       " -0.0018082719761878252,\n",
       " -0.034594208002090454,\n",
       " -0.0016618154477328062,\n",
       " 0.03202063590288162,\n",
       " 0.024503100663423538,\n",
       " 0.03323969617486,\n",
       " 0.00010920743807218969,\n",
       " -0.024570826441049576,\n",
       " 0.04407578334212303,\n",
       " -0.00853341817855835,\n",
       " 0.018854791298508644,\n",
       " 0.04209819808602333,\n",
       " -0.04231491684913635,\n",
       " -0.012705311179161072,\n",
       " 0.02554607391357422,\n",
       " -0.01794726774096489,\n",
       " -0.012400547042489052,\n",
       " 0.02993468940258026,\n",
       " -0.016985565423965454,\n",
       " 0.007117954548448324,\n",
       " 0.04865402728319168,\n",
       " 0.022308792918920517,\n",
       " -0.0161728598177433,\n",
       " 0.008628234267234802,\n",
       " 0.025193901732563972,\n",
       " -0.006064822431653738,\n",
       " 0.04486139863729477,\n",
       " -0.02202434651553631,\n",
       " 0.026169149205088615,\n",
       " 0.025275172665715218,\n",
       " 0.057647980749607086,\n",
       " -0.0076394411735236645,\n",
       " -0.003663951763883233,\n",
       " 0.01640312559902668,\n",
       " 0.028417637571692467,\n",
       " 0.03256244212388992,\n",
       " 0.0037045872304588556,\n",
       " 0.00974570494145155,\n",
       " -0.004456340800970793,\n",
       " 0.03936208412051201,\n",
       " 0.026927676051855087,\n",
       " -0.01485898345708847,\n",
       " 0.013043939135968685,\n",
       " -0.005936143919825554,\n",
       " 0.0026616137474775314,\n",
       " 0.01277303695678711,\n",
       " 0.04732660949230194,\n",
       " -0.013043939135968685,\n",
       " -0.010213011875748634,\n",
       " -0.019179873168468475,\n",
       " -0.002961299382150173,\n",
       " 0.024855272844433784,\n",
       " ...]"
      ]
     },
     "execution_count": 32,
     "metadata": {},
     "output_type": "execute_result"
    }
   ],
   "source": [
    "embeddings[0]"
   ]
  },
  {
   "cell_type": "code",
   "execution_count": null,
   "id": "d09f96f2-01e8-4d38-a3c5-a4c51400b710",
   "metadata": {
    "colab": {
     "base_uri": "https://localhost:8080/"
    },
    "executionInfo": {
     "elapsed": 2058,
     "status": "ok",
     "timestamp": 1721893677329,
     "user": {
      "displayName": "Kane",
      "userId": "04940649649331248050"
     },
     "user_tz": -540
    },
    "id": "d09f96f2-01e8-4d38-a3c5-a4c51400b710",
    "outputId": "1670bb95-1730-4bc5-a17b-c7c3965dd099"
   },
   "outputs": [
    {
     "data": {
      "text/plain": [
       "(53, 1536)"
      ]
     },
     "execution_count": 33,
     "metadata": {},
     "output_type": "execute_result"
    }
   ],
   "source": [
    "from langchain_openai import OpenAIEmbeddings\n",
    "from langchain_community.document_loaders import PyPDFium2Loader\n",
    "from langchain_text_splitters import RecursiveCharacterTextSplitter\n",
    "\n",
    "#임베딩 모델 API 호출\n",
    "embeddings_model = OpenAIEmbeddings(model = 'text-embedding-3-small')\n",
    "\n",
    "#PDF 문서 로드\n",
    "loader = PyPDFium2Loader(r\"/content/drive/MyDrive/마소캠퍼스/[이슈리포트 2022-2호] 혁신성장 정책금융 동향.pdf\")\n",
    "pages = loader.load()\n",
    "\n",
    "#PDF 문서를 여러 청크로 분할\n",
    "text_splitter = RecursiveCharacterTextSplitter(\n",
    "    chunk_size=500,\n",
    "    chunk_overlap=100\n",
    ")\n",
    "\n",
    "texts = text_splitter.split_documents(pages)\n",
    "\n",
    "#OpenAI 임베딩 모델로 청크들을 임베딩 변환하기\n",
    "embeddings = embeddings_model.embed_documents([i.page_content for i in texts])\n",
    "len(embeddings), len(embeddings[0])"
   ]
  },
  {
   "cell_type": "markdown",
   "id": "5fb0fa3c-c6bf-48fe-88bb-da4a8f9a294a",
   "metadata": {
    "id": "5fb0fa3c-c6bf-48fe-88bb-da4a8f9a294a"
   },
   "source": [
    "**[문장 유사도 계산해보기]**"
   ]
  },
  {
   "cell_type": "code",
   "execution_count": null,
   "id": "7664ff1d-1841-4e82-9547-63248a439aaf",
   "metadata": {
    "id": "7664ff1d-1841-4e82-9547-63248a439aaf"
   },
   "outputs": [],
   "source": [
    "examples= embeddings_model.embed_documents(\n",
    "     [\n",
    "        \"안녕하세요\",\n",
    "        \"제 이름은 홍두깨입니다.\",\n",
    "        \"이름이 무엇인가요?\",\n",
    "        \"랭체인은 유용합니다.\",\n",
    "     ]\n",
    " )\n",
    "\n",
    "#예시 질문과 답변 임베딩\n",
    "embedded_query_q = embeddings_model.embed_query(\"이 대화에서 언급된 이름은 무엇입니까?\")\n",
    "embedded_query_a = embeddings_model.embed_query(\"이 대화에서 언급된 이름은 홍길동입니다.\")"
   ]
  },
  {
   "cell_type": "code",
   "execution_count": null,
   "id": "e78de616-83f4-4868-9856-358e74142f49",
   "metadata": {
    "colab": {
     "base_uri": "https://localhost:8080/"
    },
    "executionInfo": {
     "elapsed": 365,
     "status": "ok",
     "timestamp": 1721893861741,
     "user": {
      "displayName": "Kane",
      "userId": "04940649649331248050"
     },
     "user_tz": -540
    },
    "id": "e78de616-83f4-4868-9856-358e74142f49",
    "outputId": "6a2fb6fb-e158-409d-8861-c75f21d878f6"
   },
   "outputs": [
    {
     "name": "stdout",
     "output_type": "stream",
     "text": [
      "0.955454149782215\n",
      "0.9322697302217915\n",
      "0.9105264737118787\n"
     ]
    }
   ],
   "source": [
    "from numpy import dot\n",
    "from numpy.linalg import norm\n",
    "import numpy as np\n",
    "\n",
    "def cos_sim(A, B):\n",
    "       return dot(A, B)/(norm(A)*norm(B))\n",
    "\n",
    "print(cos_sim(embedded_query_q, embedded_query_a))\n",
    "print(cos_sim(embedded_query_a, examples [1]))\n",
    "print(cos_sim(embedded_query_a, examples [3]))"
   ]
  },
  {
   "cell_type": "markdown",
   "id": "fe9c123d-e979-4819-9486-5f60b1df8f65",
   "metadata": {
    "id": "fe9c123d-e979-4819-9486-5f60b1df8f65"
   },
   "source": [
    "### **오픈소스 임베딩 모델 활용하기**"
   ]
  },
  {
   "cell_type": "markdown",
   "id": "04cd5fc9-989a-4fb9-b24e-a029114a3ac1",
   "metadata": {
    "id": "04cd5fc9-989a-4fb9-b24e-a029114a3ac1"
   },
   "source": [
    "**[jhgan/ko-sroberta-multitask 임베딩 모델 활용]**"
   ]
  },
  {
   "cell_type": "code",
   "execution_count": null,
   "id": "46b10dfb-0786-4747-b9d4-5b86d670d2d2",
   "metadata": {
    "collapsed": true,
    "id": "46b10dfb-0786-4747-b9d4-5b86d670d2d2"
   },
   "outputs": [],
   "source": [
    "pip install sentence-transformers"
   ]
  },
  {
   "cell_type": "code",
   "execution_count": null,
   "id": "838da6e8-52c1-40b1-96c6-0f84a0dc7ac3",
   "metadata": {
    "colab": {
     "base_uri": "https://localhost:8080/"
    },
    "executionInfo": {
     "elapsed": 4447,
     "status": "ok",
     "timestamp": 1721893989616,
     "user": {
      "displayName": "Kane",
      "userId": "04940649649331248050"
     },
     "user_tz": -540
    },
    "id": "838da6e8-52c1-40b1-96c6-0f84a0dc7ac3",
    "outputId": "caaa929e-975b-4f07-e22e-3e9becbb5a37"
   },
   "outputs": [
    {
     "name": "stdout",
     "output_type": "stream",
     "text": [
      "0.6070006291210956\n",
      "0.2947341954203977\n",
      "0.27578404901923914\n"
     ]
    }
   ],
   "source": [
    "from langchain_community.embeddings import HuggingFaceEmbeddings\n",
    "\n",
    "#HuggingfaceEmbedding 함수로 Open source 임베딩 모델 로드\n",
    "model_name = \"jhgan/ko-sroberta-multitask\"\n",
    "ko_embedding= HuggingFaceEmbeddings(\n",
    "    model_name=model_name\n",
    ")\n",
    "\n",
    "examples = ko_embedding.embed_documents(\n",
    "     [\n",
    "        \"안녕하세요\",\n",
    "        \"제 이름은 홍두깨입니다.\",\n",
    "        \"이름이 무엇인가요?\",\n",
    "        \"랭체인은 유용합니다.\",\n",
    "     ]\n",
    " )\n",
    "\n",
    "embedded_query_q = ko_embedding.embed_query(\"이 대화에서 언급된 이름은 무엇입니까?\")\n",
    "embedded_query_a = ko_embedding.embed_query(\"이 대화에서 언급된 이름은 홍길동입니다.\")\n",
    "\n",
    "print(cos_sim(embedded_query_q, embedded_query_a))\n",
    "print(cos_sim(embedded_query_q, examples[1]))\n",
    "print(cos_sim(embedded_query_q, examples[3]))"
   ]
  },
  {
   "cell_type": "markdown",
   "id": "f5e38d6b-21e4-465f-9da1-490fd54c23b5",
   "metadata": {
    "id": "f5e38d6b-21e4-465f-9da1-490fd54c23b5"
   },
   "source": [
    "**[BAAI/bge-small-en 임베딩 모델 활용 코드]**"
   ]
  },
  {
   "cell_type": "code",
   "execution_count": null,
   "id": "5427a29b-c718-44a4-9ecd-0ca816e08c44",
   "metadata": {
    "colab": {
     "base_uri": "https://localhost:8080/"
    },
    "editable": true,
    "executionInfo": {
     "elapsed": 2264,
     "status": "ok",
     "timestamp": 1721894173858,
     "user": {
      "displayName": "Kane",
      "userId": "04940649649331248050"
     },
     "user_tz": -540
    },
    "id": "5427a29b-c718-44a4-9ecd-0ca816e08c44",
    "outputId": "fe0b9545-a260-42f9-ab7f-f3a5680859b8",
    "tags": []
   },
   "outputs": [
    {
     "name": "stdout",
     "output_type": "stream",
     "text": [
      "0.955454149782215\n",
      "0.9431682731233773\n",
      "0.8853417113547791\n"
     ]
    }
   ],
   "source": [
    "from langchain_community.embeddings import HuggingFaceEmbeddings\n",
    "\n",
    "model_name = \"BAAI/bge-small-en\"\n",
    "bge_embedding= HuggingFaceEmbeddings(\n",
    "    model_name=model_name\n",
    ")\n",
    "\n",
    "examples = bge_embedding.embed_documents(\n",
    "     [\n",
    "        \"안녕하세요\",\n",
    "        \"제 이름은 홍두깨입니다.\",\n",
    "        \"이름이 무엇인가요?\",\n",
    "        \"랭체인은 유용합니다.\",\n",
    "     ]\n",
    " )\n",
    "\n",
    "embedded_query_q = bge_embedding.embed_query(\"이 대화에서 언급된 이름은 무엇입니까?\")\n",
    "embedded_query_a = bge_embedding.embed_query(\"이 대화에서 언급된 이름은 홍길동입니다.\")\n",
    "\n",
    "print(cos_sim(embedded_query_q, embedded_query_a))\n",
    "print(cos_sim(embedded_query_q, examples[1]))\n",
    "print(cos_sim(embedded_query_q, examples[3]))"
   ]
  },
  {
   "cell_type": "markdown",
   "id": "11ca072c-ac9e-432f-959e-beaa2fe37a82",
   "metadata": {
    "id": "11ca072c-ac9e-432f-959e-beaa2fe37a82",
    "jp-MarkdownHeadingCollapsed": true
   },
   "source": [
    "## **문서 벡터 저장소, Vector Stores**"
   ]
  },
  {
   "cell_type": "markdown",
   "id": "6d2139c7-3c4f-45ca-b017-c5d6839fc7c7",
   "metadata": {
    "editable": true,
    "id": "6d2139c7-3c4f-45ca-b017-c5d6839fc7c7",
    "tags": []
   },
   "source": [
    "### **Langchain-Chroma 문서 저장 및 유사 문서 검색**"
   ]
  },
  {
   "cell_type": "code",
   "execution_count": null,
   "id": "GeBdI3iL8fHm",
   "metadata": {
    "colab": {
     "base_uri": "https://localhost:8080/"
    },
    "collapsed": true,
    "executionInfo": {
     "elapsed": 24243,
     "status": "ok",
     "timestamp": 1721895118667,
     "user": {
      "displayName": "Kane",
      "userId": "04940649649331248050"
     },
     "user_tz": -540
    },
    "id": "GeBdI3iL8fHm",
    "outputId": "640d1e26-54fc-453d-85f4-7d6710d1fa50"
   },
   "outputs": [
    {
     "name": "stdout",
     "output_type": "stream",
     "text": [
      "\u001b[?25l     \u001b[90m━━━━━━━━━━━━━━━━━━━━━━━━━━━━━━━━━━━━━━━━\u001b[0m \u001b[32m0.0/67.3 kB\u001b[0m \u001b[31m?\u001b[0m eta \u001b[36m-:--:--\u001b[0m\r\u001b[2K     \u001b[90m━━━━━━━━━━━━━━━━━━━━━━━━━━━━━━━━━━━━━━━━\u001b[0m \u001b[32m67.3/67.3 kB\u001b[0m \u001b[31m3.6 MB/s\u001b[0m eta \u001b[36m0:00:00\u001b[0m\n",
      "\u001b[?25h  Installing build dependencies ... \u001b[?25l\u001b[?25hdone\n",
      "  Getting requirements to build wheel ... \u001b[?25l\u001b[?25hdone\n",
      "  Preparing metadata (pyproject.toml) ... \u001b[?25l\u001b[?25hdone\n",
      "\u001b[2K   \u001b[90m━━━━━━━━━━━━━━━━━━━━━━━━━━━━━━━━━━━━━━━━\u001b[0m \u001b[32m584.3/584.3 kB\u001b[0m \u001b[31m17.4 MB/s\u001b[0m eta \u001b[36m0:00:00\u001b[0m\n",
      "\u001b[2K   \u001b[90m━━━━━━━━━━━━━━━━━━━━━━━━━━━━━━━━━━━━━━━━\u001b[0m \u001b[32m2.4/2.4 MB\u001b[0m \u001b[31m52.0 MB/s\u001b[0m eta \u001b[36m0:00:00\u001b[0m\n",
      "\u001b[2K   \u001b[90m━━━━━━━━━━━━━━━━━━━━━━━━━━━━━━━━━━━━━━━━\u001b[0m \u001b[32m273.8/273.8 kB\u001b[0m \u001b[31m14.0 MB/s\u001b[0m eta \u001b[36m0:00:00\u001b[0m\n",
      "\u001b[2K   \u001b[90m━━━━━━━━━━━━━━━━━━━━━━━━━━━━━━━━━━━━━━━━\u001b[0m \u001b[32m92.2/92.2 kB\u001b[0m \u001b[31m5.8 MB/s\u001b[0m eta \u001b[36m0:00:00\u001b[0m\n",
      "\u001b[2K   \u001b[90m━━━━━━━━━━━━━━━━━━━━━━━━━━━━━━━━━━━━━━━━\u001b[0m \u001b[32m1.7/1.7 MB\u001b[0m \u001b[31m46.6 MB/s\u001b[0m eta \u001b[36m0:00:00\u001b[0m\n",
      "\u001b[2K   \u001b[90m━━━━━━━━━━━━━━━━━━━━━━━━━━━━━━━━━━━━━━━━\u001b[0m \u001b[32m67.6/67.6 kB\u001b[0m \u001b[31m4.6 MB/s\u001b[0m eta \u001b[36m0:00:00\u001b[0m\n",
      "\u001b[2K   \u001b[90m━━━━━━━━━━━━━━━━━━━━━━━━━━━━━━━━━━━━━━━━\u001b[0m \u001b[32m61.5/61.5 kB\u001b[0m \u001b[31m4.3 MB/s\u001b[0m eta \u001b[36m0:00:00\u001b[0m\n",
      "\u001b[2K   \u001b[90m━━━━━━━━━━━━━━━━━━━━━━━━━━━━━━━━━━━━━━━━\u001b[0m \u001b[32m52.5/52.5 kB\u001b[0m \u001b[31m2.5 MB/s\u001b[0m eta \u001b[36m0:00:00\u001b[0m\n",
      "\u001b[2K   \u001b[90m━━━━━━━━━━━━━━━━━━━━━━━━━━━━━━━━━━━━━━━━\u001b[0m \u001b[32m138.0/138.0 kB\u001b[0m \u001b[31m10.0 MB/s\u001b[0m eta \u001b[36m0:00:00\u001b[0m\n",
      "\u001b[2K   \u001b[90m━━━━━━━━━━━━━━━━━━━━━━━━━━━━━━━━━━━━━━━━\u001b[0m \u001b[32m109.5/109.5 kB\u001b[0m \u001b[31m7.8 MB/s\u001b[0m eta \u001b[36m0:00:00\u001b[0m\n",
      "\u001b[2K   \u001b[90m━━━━━━━━━━━━━━━━━━━━━━━━━━━━━━━━━━━━━━━━\u001b[0m \u001b[32m41.3/41.3 kB\u001b[0m \u001b[31m2.5 MB/s\u001b[0m eta \u001b[36m0:00:00\u001b[0m\n",
      "\u001b[2K   \u001b[90m━━━━━━━━━━━━━━━━━━━━━━━━━━━━━━━━━━━━━━━━\u001b[0m \u001b[32m62.8/62.8 kB\u001b[0m \u001b[31m4.2 MB/s\u001b[0m eta \u001b[36m0:00:00\u001b[0m\n",
      "\u001b[2K   \u001b[90m━━━━━━━━━━━━━━━━━━━━━━━━━━━━━━━━━━━━━━━━\u001b[0m \u001b[32m341.4/341.4 kB\u001b[0m \u001b[31m19.1 MB/s\u001b[0m eta \u001b[36m0:00:00\u001b[0m\n",
      "\u001b[2K   \u001b[90m━━━━━━━━━━━━━━━━━━━━━━━━━━━━━━━━━━━━━━━━\u001b[0m \u001b[32m71.9/71.9 kB\u001b[0m \u001b[31m4.3 MB/s\u001b[0m eta \u001b[36m0:00:00\u001b[0m\n",
      "\u001b[2K   \u001b[90m━━━━━━━━━━━━━━━━━━━━━━━━━━━━━━━━━━━━━━━━\u001b[0m \u001b[32m3.4/3.4 MB\u001b[0m \u001b[31m51.1 MB/s\u001b[0m eta \u001b[36m0:00:00\u001b[0m\n",
      "\u001b[2K   \u001b[90m━━━━━━━━━━━━━━━━━━━━━━━━━━━━━━━━━━━━━━━━\u001b[0m \u001b[32m1.2/1.2 MB\u001b[0m \u001b[31m37.0 MB/s\u001b[0m eta \u001b[36m0:00:00\u001b[0m\n",
      "\u001b[2K   \u001b[90m━━━━━━━━━━━━━━━━━━━━━━━━━━━━━━━━━━━━━━━━\u001b[0m \u001b[32m130.2/130.2 kB\u001b[0m \u001b[31m8.5 MB/s\u001b[0m eta \u001b[36m0:00:00\u001b[0m\n",
      "\u001b[2K   \u001b[90m━━━━━━━━━━━━━━━━━━━━━━━━━━━━━━━━━━━━━━━━\u001b[0m \u001b[32m307.7/307.7 kB\u001b[0m \u001b[31m19.1 MB/s\u001b[0m eta \u001b[36m0:00:00\u001b[0m\n",
      "\u001b[?25h  Building wheel for pypika (pyproject.toml) ... \u001b[?25l\u001b[?25hdone\n"
     ]
    }
   ],
   "source": [
    "pip install -q chromadb"
   ]
  },
  {
   "cell_type": "code",
   "execution_count": null,
   "id": "fe3da483-da87-426b-9179-4ffb26160056",
   "metadata": {
    "id": "fe3da483-da87-426b-9179-4ffb26160056"
   },
   "outputs": [],
   "source": [
    "import os\n",
    "from langchain.document_loaders import PyPDFLoader\n",
    "from langchain.text_splitter import RecursiveCharacterTextSplitter\n",
    "from langchain_openai import OpenAIEmbeddings\n",
    "from langchain.vectorstores import Chroma\n",
    "os.environ[\"OPENAI_API_KEY\"] = \"YOUR_API_KEY\"\n",
    "\n",
    "openai_embedding=OpenAIEmbeddings(model = 'text-embedding-3-small')\n",
    "\n",
    "loader = PyPDFLoader(r\"/content/drive/MyDrive/마소캠퍼스/대한민국 헌법.pdf\")\n",
    "pages = loader.load_and_split()\n",
    "\n",
    "text_splitter = RecursiveCharacterTextSplitter(chunk_size=500, chunk_overlap=0)\n",
    "docs = text_splitter.split_documents(pages)\n",
    "\n",
    "db = Chroma.from_documents(docs, openai_embedding)"
   ]
  },
  {
   "cell_type": "code",
   "execution_count": null,
   "id": "053bbc0b-4916-4c02-810c-b68c8da10466",
   "metadata": {
    "colab": {
     "base_uri": "https://localhost:8080/"
    },
    "collapsed": true,
    "executionInfo": {
     "elapsed": 395,
     "status": "ok",
     "timestamp": 1721895740431,
     "user": {
      "displayName": "Kane",
      "userId": "04940649649331248050"
     },
     "user_tz": -540
    },
    "id": "053bbc0b-4916-4c02-810c-b68c8da10466",
    "outputId": "73a8663e-4e29-4328-8fc0-f42c62adcd47"
   },
   "outputs": [
    {
     "data": {
      "text/plain": [
       "[Document(metadata={'page': 10, 'source': '/content/drive/MyDrive/마소캠퍼스/대한민국 헌법.pdf'}, page_content='제70조 대통령의 임기는 5년으로 하며, 중임할 수 없다.\\n \\n제71조 대통령이 궐위되거나 사고로 인하여 직무를 수행할 수 없을 때에는 국무총리, 법률이 정\\n한 국무위원의 순서로 그 권한을 대행한다.\\n \\n제72조 대통령은 필요하다고 인정할 때에는 외교ㆍ국방ㆍ통일 기타 국가안위에 관한 중요정책\\n을 국민투표에 붙일 수 있다.\\n \\n제73조 대통령은 조약을 체결ㆍ비준하고, 외교사절을 신임ㆍ접수 또는 파견하며, 선전포고와 강\\n화를 한다.'),\n",
       " Document(metadata={'page': 10, 'source': '/content/drive/MyDrive/마소캠퍼스/대한민국 헌법.pdf'}, page_content='법제처                                                            11                                                       국가법령정보센터\\n「대한민국헌법」 \\n③탄핵소추의 의결을 받은 자는 탄핵심판이 있을 때까지 그 권한행사가 정지된다.\\n④탄핵결정은 공직으로부터 파면함에 그친다. 그러나, 이에 의하여 민사상이나 형사상의 책임\\n이 면제되지는 아니한다.\\n \\n                    제4장 정부\\n                       제1절 대통령\\n \\n제66조 ①대통령은 국가의 원수이며, 외국에 대하여 국가를 대표한다.\\n②대통령은 국가의 독립ㆍ영토의 보전ㆍ국가의 계속성과 헌법을 수호할 책무를 진다.\\n③대통령은 조국의 평화적 통일을 위한 성실한 의무를 진다.\\n④행정권은 대통령을 수반으로 하는 정부에 속한다.\\n \\n제67조 ①대통령은 국민의 보통ㆍ평등ㆍ직접ㆍ비밀선거에 의하여 선출한다.'),\n",
       " Document(metadata={'page': 11, 'source': '/content/drive/MyDrive/마소캠퍼스/대한민국 헌법.pdf'}, page_content='②대통령은 국가의 안위에 관계되는 중대한 교전상태에 있어서 국가를 보위하기 위하여 긴급\\n한 조치가 필요하고 국회의 집회가 불가능한 때에 한하여 법률의 효력을 가지는 명령을 발할\\n수 있다.\\n③대통령은 제1항과 제2항의 처분 또는 명령을 한 때에는 지체없이 국회에 보고하여 그 승인\\n을 얻어야 한다.\\n④제3항의 승인을 얻지 못한 때에는 그 처분 또는 명령은 그때부터 효력을 상실한다. 이 경우\\n그 명령에 의하여 개정 또는 폐지되었던 법률은 그 명령이 승인을 얻지 못한 때부터 당연히 효\\n력을 회복한다.\\n⑤대통령은 제3항과 제4항의 사유를 지체없이 공포하여야 한다.\\n \\n제77조 ①대통령은 전시ㆍ사변 또는 이에 준하는 국가비상사태에 있어서 병력으로써 군사상의\\n필요에 응하거나 공공의 안녕질서를 유지할 필요가 있을 때에는 법률이 정하는 바에 의하여\\n계엄을 선포할 수 있다.\\n②계엄은 비상계엄과 경비계엄으로 한다.\\n③비상계엄이 선포된 때에는 법률이 정하는 바에 의하여 영장제도, 언론ㆍ출판ㆍ집회ㆍ결사'),\n",
       " Document(metadata={'page': 10, 'source': '/content/drive/MyDrive/마소캠퍼스/대한민국 헌법.pdf'}, page_content='②제1항의 선거에 있어서 최고득표자가 2인 이상인 때에는 국회의 재적의원 과반수가 출석한\\n공개회의에서 다수표를 얻은 자를 당선자로 한다.\\n③대통령후보자가 1인일 때에는 그 득표수가 선거권자 총수의 3분의 1 이상이 아니면 대통령\\n으로 당선될 수 없다.\\n④대통령으로 선거될 수 있는 자는 국회의원의 피선거권이 있고 선거일 현재 40세에 달하여야\\n한다.\\n⑤대통령의 선거에 관한 사항은 법률로 정한다.\\n \\n제68조 ①대통령의 임기가 만료되는 때에는 임기만료 70일 내지 40일전에 후임자를 선거한다.\\n②대통령이 궐위된 때 또는 대통령 당선자가 사망하거나 판결 기타의 사유로 그 자격을 상실\\n한 때에는 60일 이내에 후임자를 선거한다.\\n \\n제69조 대통령은 취임에 즈음하여 다음의 선서를 한다.\\n\"나는 헌법을 준수하고 국가를 보위하며 조국의 평화적 통일과 국민의 자유와 복리의 증진 및\\n민족문화의 창달에 노력하여 대통령으로서의 직책을 성실히 수행할 것을 국민 앞에 엄숙히 선\\n서합니다.\"')]"
      ]
     },
     "execution_count": 43,
     "metadata": {},
     "output_type": "execute_result"
    }
   ],
   "source": [
    "query = \"대통령의 임기는?\"\n",
    "#유사 문서 검색\n",
    "docs = db.similarity_search(query)\n",
    "docs"
   ]
  },
  {
   "cell_type": "code",
   "execution_count": null,
   "id": "a844869a-27c7-48c7-9099-b76bd126062e",
   "metadata": {
    "colab": {
     "base_uri": "https://localhost:8080/"
    },
    "executionInfo": {
     "elapsed": 344,
     "status": "ok",
     "timestamp": 1721895783890,
     "user": {
      "displayName": "Kane",
      "userId": "04940649649331248050"
     },
     "user_tz": -540
    },
    "id": "a844869a-27c7-48c7-9099-b76bd126062e",
    "outputId": "587d6ba5-27db-420b-a9a6-3e9e531a3b11"
   },
   "outputs": [
    {
     "data": {
      "text/plain": [
       "[(Document(metadata={'page': 10, 'source': '/content/drive/MyDrive/마소캠퍼스/대한민국 헌법.pdf'}, page_content='제70조 대통령의 임기는 5년으로 하며, 중임할 수 없다.\\n \\n제71조 대통령이 궐위되거나 사고로 인하여 직무를 수행할 수 없을 때에는 국무총리, 법률이 정\\n한 국무위원의 순서로 그 권한을 대행한다.\\n \\n제72조 대통령은 필요하다고 인정할 때에는 외교ㆍ국방ㆍ통일 기타 국가안위에 관한 중요정책\\n을 국민투표에 붙일 수 있다.\\n \\n제73조 대통령은 조약을 체결ㆍ비준하고, 외교사절을 신임ㆍ접수 또는 파견하며, 선전포고와 강\\n화를 한다.'),\n",
       "  1.0991065502166748),\n",
       " (Document(metadata={'page': 10, 'source': '/content/drive/MyDrive/마소캠퍼스/대한민국 헌법.pdf'}, page_content='법제처                                                            11                                                       국가법령정보센터\\n「대한민국헌법」 \\n③탄핵소추의 의결을 받은 자는 탄핵심판이 있을 때까지 그 권한행사가 정지된다.\\n④탄핵결정은 공직으로부터 파면함에 그친다. 그러나, 이에 의하여 민사상이나 형사상의 책임\\n이 면제되지는 아니한다.\\n \\n                    제4장 정부\\n                       제1절 대통령\\n \\n제66조 ①대통령은 국가의 원수이며, 외국에 대하여 국가를 대표한다.\\n②대통령은 국가의 독립ㆍ영토의 보전ㆍ국가의 계속성과 헌법을 수호할 책무를 진다.\\n③대통령은 조국의 평화적 통일을 위한 성실한 의무를 진다.\\n④행정권은 대통령을 수반으로 하는 정부에 속한다.\\n \\n제67조 ①대통령은 국민의 보통ㆍ평등ㆍ직접ㆍ비밀선거에 의하여 선출한다.'),\n",
       "  1.126524806022644),\n",
       " (Document(metadata={'page': 11, 'source': '/content/drive/MyDrive/마소캠퍼스/대한민국 헌법.pdf'}, page_content='②대통령은 국가의 안위에 관계되는 중대한 교전상태에 있어서 국가를 보위하기 위하여 긴급\\n한 조치가 필요하고 국회의 집회가 불가능한 때에 한하여 법률의 효력을 가지는 명령을 발할\\n수 있다.\\n③대통령은 제1항과 제2항의 처분 또는 명령을 한 때에는 지체없이 국회에 보고하여 그 승인\\n을 얻어야 한다.\\n④제3항의 승인을 얻지 못한 때에는 그 처분 또는 명령은 그때부터 효력을 상실한다. 이 경우\\n그 명령에 의하여 개정 또는 폐지되었던 법률은 그 명령이 승인을 얻지 못한 때부터 당연히 효\\n력을 회복한다.\\n⑤대통령은 제3항과 제4항의 사유를 지체없이 공포하여야 한다.\\n \\n제77조 ①대통령은 전시ㆍ사변 또는 이에 준하는 국가비상사태에 있어서 병력으로써 군사상의\\n필요에 응하거나 공공의 안녕질서를 유지할 필요가 있을 때에는 법률이 정하는 바에 의하여\\n계엄을 선포할 수 있다.\\n②계엄은 비상계엄과 경비계엄으로 한다.\\n③비상계엄이 선포된 때에는 법률이 정하는 바에 의하여 영장제도, 언론ㆍ출판ㆍ집회ㆍ결사'),\n",
       "  1.1607182025909424),\n",
       " (Document(metadata={'page': 10, 'source': '/content/drive/MyDrive/마소캠퍼스/대한민국 헌법.pdf'}, page_content='②제1항의 선거에 있어서 최고득표자가 2인 이상인 때에는 국회의 재적의원 과반수가 출석한\\n공개회의에서 다수표를 얻은 자를 당선자로 한다.\\n③대통령후보자가 1인일 때에는 그 득표수가 선거권자 총수의 3분의 1 이상이 아니면 대통령\\n으로 당선될 수 없다.\\n④대통령으로 선거될 수 있는 자는 국회의원의 피선거권이 있고 선거일 현재 40세에 달하여야\\n한다.\\n⑤대통령의 선거에 관한 사항은 법률로 정한다.\\n \\n제68조 ①대통령의 임기가 만료되는 때에는 임기만료 70일 내지 40일전에 후임자를 선거한다.\\n②대통령이 궐위된 때 또는 대통령 당선자가 사망하거나 판결 기타의 사유로 그 자격을 상실\\n한 때에는 60일 이내에 후임자를 선거한다.\\n \\n제69조 대통령은 취임에 즈음하여 다음의 선서를 한다.\\n\"나는 헌법을 준수하고 국가를 보위하며 조국의 평화적 통일과 국민의 자유와 복리의 증진 및\\n민족문화의 창달에 노력하여 대통령으로서의 직책을 성실히 수행할 것을 국민 앞에 엄숙히 선\\n서합니다.\"'),\n",
       "  1.1642687320709229)]"
      ]
     },
     "execution_count": 44,
     "metadata": {},
     "output_type": "execute_result"
    }
   ],
   "source": [
    "#유사 문서 검색 및 유사도 출력\n",
    "db.similarity_search_with_score(query)"
   ]
  },
  {
   "cell_type": "markdown",
   "id": "af739a95-529b-4d29-bcff-7ad7716412cd",
   "metadata": {
    "id": "af739a95-529b-4d29-bcff-7ad7716412cd"
   },
   "source": [
    "**[벡터DB를 로컬 디스크에 저장하고 로드하기]**"
   ]
  },
  {
   "cell_type": "code",
   "execution_count": null,
   "id": "c81e5acd-89f0-4f72-837c-e2bc87af8245",
   "metadata": {
    "colab": {
     "base_uri": "https://localhost:8080/"
    },
    "executionInfo": {
     "elapsed": 401,
     "status": "ok",
     "timestamp": 1721895861524,
     "user": {
      "displayName": "Kane",
      "userId": "04940649649331248050"
     },
     "user_tz": -540
    },
    "id": "c81e5acd-89f0-4f72-837c-e2bc87af8245",
    "outputId": "3d1f18ce-48b0-4e5c-98be-9e3937939e51"
   },
   "outputs": [
    {
     "name": "stderr",
     "output_type": "stream",
     "text": [
      "/usr/local/lib/python3.10/dist-packages/langchain_core/_api/deprecation.py:139: LangChainDeprecationWarning: The class `Chroma` was deprecated in LangChain 0.2.9 and will be removed in 0.4. An updated version of the class exists in the langchain-chroma package and should be used instead. To use it run `pip install -U langchain-chroma` and import as `from langchain_chroma import Chroma`.\n",
      "  warn_deprecated(\n"
     ]
    }
   ],
   "source": [
    "Chroma().delete_collection()"
   ]
  },
  {
   "cell_type": "code",
   "execution_count": null,
   "id": "113e218c-b31b-4bfd-8ca1-5f88f25bb513",
   "metadata": {
    "id": "113e218c-b31b-4bfd-8ca1-5f88f25bb513"
   },
   "outputs": [],
   "source": [
    "from langchain.document_loaders import PyPDFLoader\n",
    "from langchain.text_splitter import RecursiveCharacterTextSplitter\n",
    "from langchain_community.embeddings import HuggingFaceEmbeddings\n",
    "from langchain.vectorstores import Chroma\n",
    "\n",
    "loader = PyPDFLoader(r\"/content/drive/MyDrive/마소캠퍼스/대한민국 헌법.pdf\")\n",
    "pages = loader.load_and_split()\n",
    "\n",
    "text_splitter = RecursiveCharacterTextSplitter(chunk_size=500, chunk_overlap=0)\n",
    "docs = text_splitter.split_documents(pages)\n",
    "\n",
    "\n",
    "#HuggingfaceEmbedding 함수로 Open source 임베딩 모델 로드\n",
    "model_name = \"jhgan/ko-sroberta-multitask\"\n",
    "ko_embedding= HuggingFaceEmbeddings(\n",
    "    model_name=model_name\n",
    ")\n",
    "\n",
    "\n",
    "#save to disk\n",
    "db2 = Chroma.from_documents(docs, ko_embedding, persist_directory=\"./chroma_db\")"
   ]
  },
  {
   "cell_type": "code",
   "execution_count": null,
   "id": "p7LfvwiN_5ft",
   "metadata": {
    "colab": {
     "base_uri": "https://localhost:8080/"
    },
    "executionInfo": {
     "elapsed": 391,
     "status": "ok",
     "timestamp": 1721896112989,
     "user": {
      "displayName": "Kane",
      "userId": "04940649649331248050"
     },
     "user_tz": -540
    },
    "id": "p7LfvwiN_5ft",
    "outputId": "15c6b3a8-9574-43ed-ca21-1aa112ef939d"
   },
   "outputs": [
    {
     "name": "stdout",
     "output_type": "stream",
     "text": [
      "제70조 대통령의 임기는 5년으로 하며, 중임할 수 없다.\n",
      " \n",
      "제71조 대통령이 궐위되거나 사고로 인하여 직무를 수행할 수 없을 때에는 국무총리, 법률이 정\n",
      "한 국무위원의 순서로 그 권한을 대행한다.\n",
      " \n",
      "제72조 대통령은 필요하다고 인정할 때에는 외교ㆍ국방ㆍ통일 기타 국가안위에 관한 중요정책\n",
      "을 국민투표에 붙일 수 있다.\n",
      " \n",
      "제73조 대통령은 조약을 체결ㆍ비준하고, 외교사절을 신임ㆍ접수 또는 파견하며, 선전포고와 강\n",
      "화를 한다.\n"
     ]
    }
   ],
   "source": [
    "# load from disk\n",
    "db3 = Chroma(persist_directory=\"./chroma_db\", embedding_function=ko_embedding)\n",
    "\n",
    "query = \"대통령의 임기는?\"\n",
    "result = db3.similarity_search(query)\n",
    "print(result[0].page_content)"
   ]
  },
  {
   "cell_type": "code",
   "execution_count": null,
   "id": "bgF3rfQh_47Y",
   "metadata": {
    "id": "bgF3rfQh_47Y"
   },
   "outputs": [],
   "source": [
    "# # load from disk\n",
    "# db3 = Chroma(persist_directory=\"./chroma_db\", embedding_function=ko_embedding)\n",
    "\n",
    "# query = \"대통령의 임기는?\"\n",
    "# result = db3.similarity_search(query)\n",
    "# print(result[0].page_content)"
   ]
  },
  {
   "cell_type": "markdown",
   "id": "2ba262de-79f7-402c-8537-f5f15ceb8313",
   "metadata": {
    "id": "2ba262de-79f7-402c-8537-f5f15ceb8313"
   },
   "source": [
    "## **RAG의 핵심, 문서 검색기 Retriever**"
   ]
  },
  {
   "cell_type": "markdown",
   "id": "8e4006ad-65b4-4297-890d-d51945c3d5ed",
   "metadata": {
    "id": "8e4006ad-65b4-4297-890d-d51945c3d5ed",
    "jp-MarkdownHeadingCollapsed": true
   },
   "source": [
    "### **Retriever의 기본형, 벡터DB 기반 Retriever**"
   ]
  },
  {
   "cell_type": "markdown",
   "id": "aad3c5a1-f90f-4e2b-aafb-f7d5b8714dd7",
   "metadata": {
    "id": "aad3c5a1-f90f-4e2b-aafb-f7d5b8714dd7"
   },
   "source": [
    "**Chroma 벡터 DB 기반 기본 유사 문서 검색**"
   ]
  },
  {
   "cell_type": "code",
   "execution_count": null,
   "id": "e63267f0-c768-440e-aee7-1ef13399affe",
   "metadata": {
    "colab": {
     "base_uri": "https://localhost:8080/"
    },
    "collapsed": true,
    "executionInfo": {
     "elapsed": 3135,
     "status": "ok",
     "timestamp": 1721897167389,
     "user": {
      "displayName": "Kane",
      "userId": "04940649649331248050"
     },
     "user_tz": -540
    },
    "id": "e63267f0-c768-440e-aee7-1ef13399affe",
    "outputId": "ec9648fc-f1cd-46c4-cc92-72c76eb38b38",
    "scrolled": true
   },
   "outputs": [
    {
     "data": {
      "text/plain": [
       "[Document(metadata={'page': 7, 'source': '/content/drive/MyDrive/마소캠퍼스/대한민국 헌법.pdf'}, page_content='제43조 국회의원은 법률이 정하는 직을 겸할 수 없다.\\n \\n제44조 ①국회의원은 현행범인인 경우를 제외하고는 회기중 국회의 동의없이 체포 또는 구금되\\n지 아니한다.\\n②국회의원이 회기전에 체포 또는 구금된 때에는 현행범인이 아닌 한 국회의 요구가 있으면\\n회기중 석방된다.\\n \\n제45조 국회의원은 국회에서 직무상 행한 발언과 표결에 관하여 국회외에서 책임을 지지 아니한\\n다.\\n \\n제46조 ①국회의원은 청렴의 의무가 있다.\\n②국회의원은 국가이익을 우선하여 양심에 따라 직무를 행한다.\\n③국회의원은 그 지위를 남용하여 국가ㆍ공공단체 또는 기업체와의 계약이나 그 처분에 의하\\n여 재산상의 권리ㆍ이익 또는 직위를 취득하거나 타인을 위하여 그 취득을 알선할 수 없다.\\n \\n제47조 ①국회의 정기회는 법률이 정하는 바에 의하여 매년 1회 집회되며, 국회의 임시회는 대\\n통령 또는 국회재적의원 4분의 1 이상의 요구에 의하여 집회된다.\\n②정기회의 회기는 100일을, 임시회의 회기는 30일을 초과할 수 없다.'),\n",
       " Document(metadata={'page': 9, 'source': '/content/drive/MyDrive/마소캠퍼스/대한민국 헌법.pdf'}, page_content='한 동의권을 가진다.\\n \\n제61조 ①국회는 국정을 감사하거나 특정한 국정사안에 대하여 조사할 수 있으며, 이에 필요한\\n서류의 제출 또는 증인의 출석과 증언이나 의견의 진술을 요구할 수 있다.\\n②국정감사 및 조사에 관한 절차 기타 필요한 사항은 법률로 정한다.\\n \\n제62조 ①국무총리ㆍ국무위원 또는 정부위원은 국회나 그 위원회에 출석하여 국정처리상황을\\n보고하거나 의견을 진술하고 질문에 응답할 수 있다.\\n②국회나 그 위원회의 요구가 있을 때에는 국무총리ㆍ국무위원 또는 정부위원은 출석ㆍ답변\\n하여야 하며, 국무총리 또는 국무위원이 출석요구를 받은 때에는 국무위원 또는 정부위원으로\\n하여금 출석ㆍ답변하게 할 수 있다.\\n \\n제63조 ①국회는 국무총리 또는 국무위원의 해임을 대통령에게 건의할 수 있다.\\n②제1항의 해임건의는 국회재적의원 3분의 1 이상의 발의에 의하여 국회재적의원 과반수의\\n찬성이 있어야 한다.'),\n",
       " Document(metadata={'page': 9, 'source': '/content/drive/MyDrive/마소캠퍼스/대한민국 헌법.pdf'}, page_content='제64조 ①국회는 법률에 저촉되지 아니하는 범위안에서 의사와 내부규율에 관한 규칙을 제정할\\n수 있다.\\n②국회는 의원의 자격을 심사하며, 의원을 징계할 수 있다.\\n③의원을 제명하려면 국회재적의원 3분의 2 이상의 찬성이 있어야 한다.\\n④제2항과 제3항의 처분에 대하여는 법원에 제소할 수 없다.\\n \\n제65조 ①대통령ㆍ국무총리ㆍ국무위원ㆍ행정각부의 장ㆍ헌법재판소 재판관ㆍ법관ㆍ중앙선거\\n관리위원회 위원ㆍ감사원장ㆍ감사위원 기타 법률이 정한 공무원이 그 직무집행에 있어서 헌\\n법이나 법률을 위배한 때에는 국회는 탄핵의 소추를 의결할 수 있다.\\n②제1항의 탄핵소추는 국회재적의원 3분의 1 이상의 발의가 있어야 하며, 그 의결은 국회재적\\n의원 과반수의 찬성이 있어야 한다. 다만, 대통령에 대한 탄핵소추는 국회재적의원 과반수의\\n발의와 국회재적의원 3분의 2 이상의 찬성이 있어야 한다.'),\n",
       " Document(metadata={'page': 7, 'source': '/content/drive/MyDrive/마소캠퍼스/대한민국 헌법.pdf'}, page_content='법제처                                                            8                                                       국가법령정보센터\\n「대한민국헌법」 \\n해할 수 없다.\\n \\n제38조 모든 국민은 법률이 정하는 바에 의하여 납세의 의무를 진다.\\n \\n제39조 ①모든 국민은 법률이 정하는 바에 의하여 국방의 의무를 진다.\\n②누구든지 병역의무의 이행으로 인하여 불이익한 처우를 받지 아니한다.\\n \\n                    제3장 국회\\n \\n제40조 입법권은 국회에 속한다.\\n \\n제41조 ①국회는 국민의 보통ㆍ평등ㆍ직접ㆍ비밀선거에 의하여 선출된 국회의원으로 구성한다.\\n②국회의원의 수는 법률로 정하되, 200인 이상으로 한다.\\n③국회의원의 선거구와 비례대표제 기타 선거에 관한 사항은 법률로 정한다.\\n \\n제42조 국회의원의 임기는 4년으로 한다.')]"
      ]
     },
     "execution_count": 49,
     "metadata": {},
     "output_type": "execute_result"
    }
   ],
   "source": [
    "from langchain.document_loaders import PyPDFLoader\n",
    "from langchain.text_splitter import RecursiveCharacterTextSplitter\n",
    "from langchain_openai import OpenAIEmbeddings\n",
    "from langchain_community.vectorstores import Chroma\n",
    "\n",
    "os.environ[\"OPENAI_API_KEY\"] = \"YOUR_API_KEY\"\n",
    "\n",
    "#헌법 PDF 파일 로드\n",
    "loader = PyPDFLoader(r\"/content/drive/MyDrive/마소캠퍼스/대한민국 헌법.pdf\")\n",
    "pages = loader.load_and_split()\n",
    "\n",
    "#PDF 파일을 500자 청크로 분할\n",
    "text_splitter = RecursiveCharacterTextSplitter(chunk_size=500, chunk_overlap=0)\n",
    "docs = text_splitter.split_documents(pages)\n",
    "\n",
    "#ChromaDB에 청크들을 벡터 임베딩으로 저장(OpenAI 임베딩 모델 활용)\n",
    "db = Chroma.from_documents(docs, OpenAIEmbeddings(model = 'text-embedding-3-small'))\n",
    "\n",
    "#Chroma를 Retriever로 활용\n",
    "retriever = db.as_retriever()\n",
    "retriever.invoke(\"국회의원의 의무\")"
   ]
  },
  {
   "cell_type": "markdown",
   "id": "6b8af6c4-d3c8-47ac-b29a-d8dc65f21ced",
   "metadata": {
    "id": "6b8af6c4-d3c8-47ac-b29a-d8dc65f21ced"
   },
   "source": [
    "**(1) 검색 결과 수 및 조정**"
   ]
  },
  {
   "cell_type": "code",
   "execution_count": null,
   "id": "cc4d4846-9f7d-43a1-9c16-ad2f6192228f",
   "metadata": {
    "colab": {
     "base_uri": "https://localhost:8080/"
    },
    "collapsed": true,
    "executionInfo": {
     "elapsed": 410,
     "status": "ok",
     "timestamp": 1721898465419,
     "user": {
      "displayName": "Kane",
      "userId": "04940649649331248050"
     },
     "user_tz": -540
    },
    "id": "cc4d4846-9f7d-43a1-9c16-ad2f6192228f",
    "outputId": "63fe707d-49fa-43c3-9d89-a0ef7b4bf2c3"
   },
   "outputs": [
    {
     "data": {
      "text/plain": [
       "[Document(metadata={'page': 7, 'source': '/content/drive/MyDrive/마소캠퍼스/대한민국 헌법.pdf'}, page_content='제43조 국회의원은 법률이 정하는 직을 겸할 수 없다.\\n \\n제44조 ①국회의원은 현행범인인 경우를 제외하고는 회기중 국회의 동의없이 체포 또는 구금되\\n지 아니한다.\\n②국회의원이 회기전에 체포 또는 구금된 때에는 현행범인이 아닌 한 국회의 요구가 있으면\\n회기중 석방된다.\\n \\n제45조 국회의원은 국회에서 직무상 행한 발언과 표결에 관하여 국회외에서 책임을 지지 아니한\\n다.\\n \\n제46조 ①국회의원은 청렴의 의무가 있다.\\n②국회의원은 국가이익을 우선하여 양심에 따라 직무를 행한다.\\n③국회의원은 그 지위를 남용하여 국가ㆍ공공단체 또는 기업체와의 계약이나 그 처분에 의하\\n여 재산상의 권리ㆍ이익 또는 직위를 취득하거나 타인을 위하여 그 취득을 알선할 수 없다.\\n \\n제47조 ①국회의 정기회는 법률이 정하는 바에 의하여 매년 1회 집회되며, 국회의 임시회는 대\\n통령 또는 국회재적의원 4분의 1 이상의 요구에 의하여 집회된다.\\n②정기회의 회기는 100일을, 임시회의 회기는 30일을 초과할 수 없다.'),\n",
       " Document(metadata={'page': 9, 'source': '/content/drive/MyDrive/마소캠퍼스/대한민국 헌법.pdf'}, page_content='한 동의권을 가진다.\\n \\n제61조 ①국회는 국정을 감사하거나 특정한 국정사안에 대하여 조사할 수 있으며, 이에 필요한\\n서류의 제출 또는 증인의 출석과 증언이나 의견의 진술을 요구할 수 있다.\\n②국정감사 및 조사에 관한 절차 기타 필요한 사항은 법률로 정한다.\\n \\n제62조 ①국무총리ㆍ국무위원 또는 정부위원은 국회나 그 위원회에 출석하여 국정처리상황을\\n보고하거나 의견을 진술하고 질문에 응답할 수 있다.\\n②국회나 그 위원회의 요구가 있을 때에는 국무총리ㆍ국무위원 또는 정부위원은 출석ㆍ답변\\n하여야 하며, 국무총리 또는 국무위원이 출석요구를 받은 때에는 국무위원 또는 정부위원으로\\n하여금 출석ㆍ답변하게 할 수 있다.\\n \\n제63조 ①국회는 국무총리 또는 국무위원의 해임을 대통령에게 건의할 수 있다.\\n②제1항의 해임건의는 국회재적의원 3분의 1 이상의 발의에 의하여 국회재적의원 과반수의\\n찬성이 있어야 한다.'),\n",
       " Document(metadata={'page': 9, 'source': '/content/drive/MyDrive/마소캠퍼스/대한민국 헌법.pdf'}, page_content='제64조 ①국회는 법률에 저촉되지 아니하는 범위안에서 의사와 내부규율에 관한 규칙을 제정할\\n수 있다.\\n②국회는 의원의 자격을 심사하며, 의원을 징계할 수 있다.\\n③의원을 제명하려면 국회재적의원 3분의 2 이상의 찬성이 있어야 한다.\\n④제2항과 제3항의 처분에 대하여는 법원에 제소할 수 없다.\\n \\n제65조 ①대통령ㆍ국무총리ㆍ국무위원ㆍ행정각부의 장ㆍ헌법재판소 재판관ㆍ법관ㆍ중앙선거\\n관리위원회 위원ㆍ감사원장ㆍ감사위원 기타 법률이 정한 공무원이 그 직무집행에 있어서 헌\\n법이나 법률을 위배한 때에는 국회는 탄핵의 소추를 의결할 수 있다.\\n②제1항의 탄핵소추는 국회재적의원 3분의 1 이상의 발의가 있어야 하며, 그 의결은 국회재적\\n의원 과반수의 찬성이 있어야 한다. 다만, 대통령에 대한 탄핵소추는 국회재적의원 과반수의\\n발의와 국회재적의원 3분의 2 이상의 찬성이 있어야 한다.'),\n",
       " Document(metadata={'page': 7, 'source': '/content/drive/MyDrive/마소캠퍼스/대한민국 헌법.pdf'}, page_content='법제처                                                            8                                                       국가법령정보센터\\n「대한민국헌법」 \\n해할 수 없다.\\n \\n제38조 모든 국민은 법률이 정하는 바에 의하여 납세의 의무를 진다.\\n \\n제39조 ①모든 국민은 법률이 정하는 바에 의하여 국방의 의무를 진다.\\n②누구든지 병역의무의 이행으로 인하여 불이익한 처우를 받지 아니한다.\\n \\n                    제3장 국회\\n \\n제40조 입법권은 국회에 속한다.\\n \\n제41조 ①국회는 국민의 보통ㆍ평등ㆍ직접ㆍ비밀선거에 의하여 선출된 국회의원으로 구성한다.\\n②국회의원의 수는 법률로 정하되, 200인 이상으로 한다.\\n③국회의원의 선거구와 비례대표제 기타 선거에 관한 사항은 법률로 정한다.\\n \\n제42조 국회의원의 임기는 4년으로 한다.'),\n",
       " Document(metadata={'page': 7, 'source': '/content/drive/MyDrive/마소캠퍼스/대한민국 헌법.pdf'}, page_content='③대통령이 임시회의 집회를 요구할 때에는 기간과 집회요구의 이유를 명시하여야 한다.\\n \\n제48조 국회는 의장 1인과 부의장 2인을 선출한다.\\n \\n제49조 국회는 헌법 또는 법률에 특별한 규정이 없는 한 재적의원 과반수의 출석과 출석의원 과\\n반수의 찬성으로 의결한다. 가부동수인 때에는 부결된 것으로 본다.'),\n",
       " Document(metadata={'page': 12, 'source': '/content/drive/MyDrive/마소캠퍼스/대한민국 헌법.pdf'}, page_content='②국무총리는 대통령을 보좌하며, 행정에 관하여 대통령의 명을 받아 행정각부를 통할한다.\\n③군인은 현역을 면한 후가 아니면 국무총리로 임명될 수 없다.\\n \\n제87조 ①국무위원은 국무총리의 제청으로 대통령이 임명한다.\\n②국무위원은 국정에 관하여 대통령을 보좌하며, 국무회의의 구성원으로서 국정을 심의한다.\\n③국무총리는 국무위원의 해임을 대통령에게 건의할 수 있다.\\n④군인은 현역을 면한 후가 아니면 국무위원으로 임명될 수 없다.\\n \\n                    제2관 국무회의\\n \\n제88조 ①국무회의는 정부의 권한에 속하는 중요한 정책을 심의한다.\\n②국무회의는 대통령ㆍ국무총리와 15인 이상 30인 이하의 국무위원으로 구성한다.\\n③대통령은 국무회의의 의장이 되고, 국무총리는 부의장이 된다.\\n \\n제89조 다음 사항은 국무회의의 심의를 거쳐야 한다.\\n1. 국정의 기본계획과 정부의 일반정책\\n2. 선전ㆍ강화 기타 중요한 대외정책\\n3. 헌법개정안ㆍ국민투표안ㆍ조약안ㆍ법률안 및 대통령령안'),\n",
       " Document(metadata={'page': 9, 'source': '/content/drive/MyDrive/마소캠퍼스/대한민국 헌법.pdf'}, page_content='법제처                                                            10                                                       국가법령정보센터\\n「대한민국헌법」 \\n제57조 국회는 정부의 동의없이 정부가 제출한 지출예산 각항의 금액을 증가하거나 새 비목을\\n설치할 수 없다.\\n \\n제58조 국채를 모집하거나 예산외에 국가의 부담이 될 계약을 체결하려 할 때에는 정부는 미리\\n국회의 의결을 얻어야 한다.\\n \\n제59조 조세의 종목과 세율은 법률로 정한다.\\n \\n제60조 ①국회는 상호원조 또는 안전보장에 관한 조약, 중요한 국제조직에 관한 조약, 우호통상\\n항해조약, 주권의 제약에 관한 조약, 강화조약, 국가나 국민에게 중대한 재정적 부담을 지우는\\n조약 또는 입법사항에 관한 조약의 체결ㆍ비준에 대한 동의권을 가진다.\\n②국회는 선전포고, 국군의 외국에의 파견 또는 외국군대의 대한민국 영역안에서의 주류에 대'),\n",
       " Document(metadata={'page': 16, 'source': '/content/drive/MyDrive/마소캠퍼스/대한민국 헌법.pdf'}, page_content='⑦각급 선거관리위원회의 조직ㆍ직무범위 기타 필요한 사항은 법률로 정한다.\\n \\n제115조 ①각급 선거관리위원회는 선거인명부의 작성등 선거사무와 국민투표사무에 관하여 관\\n계 행정기관에 필요한 지시를 할 수 있다.\\n②제1항의 지시를 받은 당해 행정기관은 이에 응하여야 한다.\\n \\n제116조 ①선거운동은 각급 선거관리위원회의 관리하에 법률이 정하는 범위안에서 하되, 균등\\n한 기회가 보장되어야 한다.\\n②선거에 관한 경비는 법률이 정하는 경우를 제외하고는 정당 또는 후보자에게 부담시킬 수\\n없다.'),\n",
       " Document(metadata={'page': 19, 'source': '/content/drive/MyDrive/마소캠퍼스/대한민국 헌법.pdf'}, page_content='법제처                                                            20                                                       국가법령정보센터\\n「대한민국헌법」 \\n제3조 ①이 헌법에 의한 최초의 국회의원선거는 이 헌법공포일로부터 6월 이내에 실시하며, 이\\n헌법에 의하여 선출된 최초의 국회의원의 임기는 국회의원선거후 이 헌법에 의한 국회의 최초\\n의 집회일로부터 개시한다.\\n②이 헌법공포 당시의 국회의원의 임기는 제1항에 의한 국회의 최초의 집회일 전일까지로 한\\n다.\\n제4조 ①이 헌법시행 당시의 공무원과 정부가 임명한 기업체의 임원은 이 헌법에 의하여 임명된\\n것으로 본다. 다만, 이 헌법에 의하여 선임방법이나 임명권자가 변경된 공무원과 대법원장 및\\n감사원장은 이 헌법에 의하여 후임자가 선임될 때까지 그 직무를 행하며, 이 경우 전임자인 공\\n무원의 임기는 후임자가 선임되는 전일까지로 한다.'),\n",
       " Document(metadata={'page': 8, 'source': '/content/drive/MyDrive/마소캠퍼스/대한민국 헌법.pdf'}, page_content='법제처                                                            9                                                       국가법령정보센터\\n「대한민국헌법」 \\n제50조 ①국회의 회의는 공개한다. 다만, 출석의원 과반수의 찬성이 있거나 의장이 국가의 안전\\n보장을 위하여 필요하다고 인정할 때에는 공개하지 아니할 수 있다.\\n②공개하지 아니한 회의내용의 공표에 관하여는 법률이 정하는 바에 의한다.\\n \\n제51조 국회에 제출된 법률안 기타의 의안은 회기중에 의결되지 못한 이유로 폐기되지 아니한다\\n. 다만, 국회의원의 임기가 만료된 때에는 그러하지 아니하다.\\n \\n제52조 국회의원과 정부는 법률안을 제출할 수 있다.\\n \\n제53조 ①국회에서 의결된 법률안은 정부에 이송되어 15일 이내에 대통령이 공포한다.\\n②법률안에 이의가 있을 때에는 대통령은 제1항의 기간내에 이의서를 붙여 국회로 환부하고,')]"
      ]
     },
     "execution_count": 63,
     "metadata": {},
     "output_type": "execute_result"
    }
   ],
   "source": [
    "#유사 청크 1개만 반환\n",
    "retriever = db.as_retriever(search_kwargs={\"k\": 10})\n",
    "retriever.invoke(\"국회의원의 의무\")"
   ]
  },
  {
   "cell_type": "markdown",
   "id": "dcd948e5-d549-4668-83c6-2f023f85bda9",
   "metadata": {
    "id": "dcd948e5-d549-4668-83c6-2f023f85bda9"
   },
   "source": [
    "**(2) 검색 방식 변경 - MMR**"
   ]
  },
  {
   "cell_type": "markdown",
   "id": "la4gF_A_HKA6",
   "metadata": {
    "id": "la4gF_A_HKA6"
   },
   "source": [
    "MMR은 쿼리에 대한 (1) 각 문서의 유사성 점수와 (2) 이미 선택된 문서들과의 다양성점수를 조합하여, 각 문서의 최종 점수를 계산합니다."
   ]
  },
  {
   "cell_type": "markdown",
   "id": "qFgmnBwGG6BC",
   "metadata": {
    "id": "qFgmnBwGG6BC"
   },
   "source": [
    "$\\text{MMR} = \\lambda \\cdot \\text{Sim}(d, Q) - (1 - \\lambda) \\cdot \\max_{d' \\in D'} \\text{Sim}(d, d')$"
   ]
  },
  {
   "cell_type": "markdown",
   "id": "cwPKWo6YHgHi",
   "metadata": {
    "id": "cwPKWo6YHgHi"
   },
   "source": [
    "즉 유사 문서 후보군 중 특정 문서가 후보군 내 문서들 간의 유사성은 낮고, 쿼리와의 유사성이 높은 경우 점수가 높습니다."
   ]
  },
  {
   "cell_type": "code",
   "execution_count": null,
   "id": "5caf5b18-e57c-4937-9a8f-b9061f3aadba",
   "metadata": {
    "id": "5caf5b18-e57c-4937-9a8f-b9061f3aadba"
   },
   "outputs": [],
   "source": [
    "from langchain.document_loaders import PyPDFLoader\n",
    "from langchain.text_splitter import RecursiveCharacterTextSplitter\n",
    "from langchain_openai import OpenAIEmbeddings\n",
    "from langchain_community.vectorstores import Chroma\n",
    "#헌법 PDF 파일 로드\n",
    "loader = PyPDFLoader(r\"C:\\Users\\gram\\Downloads\\대한민국헌법(헌법)(제00010호)(19880225).pdf\")\n",
    "pages = loader.load_and_split()\n",
    "\n",
    "#PDF 파일을 500자 청크로 분할\n",
    "text_splitter = RecursiveCharacterTextSplitter(chunk_size=500, chunk_overlap=0)\n",
    "docs = text_splitter.split_documents(pages)\n",
    "\n",
    "#ChromaDB에 청크들을 벡터 임베딩으로 저장(OpenAI 임베딩 모델 활용)\n",
    "db = Chroma.from_documents(docs, OpenAIEmbeddings(model = 'text-embedding-3-small'))"
   ]
  },
  {
   "cell_type": "code",
   "execution_count": null,
   "id": "34e2a25f-af66-4b7f-a0dd-467dbd797c8b",
   "metadata": {
    "colab": {
     "base_uri": "https://localhost:8080/"
    },
    "collapsed": true,
    "executionInfo": {
     "elapsed": 375,
     "status": "ok",
     "timestamp": 1721898864829,
     "user": {
      "displayName": "Kane",
      "userId": "04940649649331248050"
     },
     "user_tz": -540
    },
    "id": "34e2a25f-af66-4b7f-a0dd-467dbd797c8b",
    "outputId": "2f0471e7-3faa-41bd-e3f8-c327ec5231b5"
   },
   "outputs": [
    {
     "name": "stdout",
     "output_type": "stream",
     "text": [
      "1번째 유사 문서:\n",
      "제43조 국회의원은 법률이 정하는 직을 겸할 수 없다.\n",
      " \n",
      "제44조 ①국회의원은 현행범인인 경우를 제외하고는 회기중 국회의 동의없이 체포 또는 구금되\n",
      "지 아니한다.\n",
      "②국회의원이 회\n",
      "\n",
      "\n",
      "\n",
      "2번째 유사 문서:\n",
      "⑦각급 선거관리위원회의 조직ㆍ직무범위 기타 필요한 사항은 법률로 정한다.\n",
      " \n",
      "제115조 ①각급 선거관리위원회는 선거인명부의 작성등 선거사무와 국민투표사무에 관하여 관\n",
      "계 행정기관에\n",
      "\n",
      "\n",
      "\n",
      "3번째 유사 문서:\n",
      "법제처                                                            20                                   \n",
      "\n",
      "\n",
      "\n"
     ]
    }
   ],
   "source": [
    "#Chroma를 Retriever로 활용\n",
    "retriever = db.as_retriever(\n",
    "    search_type=\"mmr\",\n",
    "    search_kwargs = {\"lambda_mult\": 0, \"fetch_k\":10, \"k\":3}\n",
    ")\n",
    "result = retriever.invoke(\"국회의원의 의무\")\n",
    "for idx, value in enumerate(result):\n",
    "  print(f\"{idx+1}번째 유사 문서:\")\n",
    "  print(value.page_content[:100])\n",
    "  print(\"\\n\\n\")"
   ]
  },
  {
   "cell_type": "markdown",
   "id": "d8229f28-cdb5-4a2a-a595-429d64e79841",
   "metadata": {
    "id": "d8229f28-cdb5-4a2a-a595-429d64e79841"
   },
   "source": [
    "**일반 유사도 검색 방식**"
   ]
  },
  {
   "cell_type": "code",
   "execution_count": null,
   "id": "73e62edd-1a4b-4ed7-8d24-9b33598e01b4",
   "metadata": {
    "colab": {
     "base_uri": "https://localhost:8080/"
    },
    "executionInfo": {
     "elapsed": 906,
     "status": "ok",
     "timestamp": 1721898899513,
     "user": {
      "displayName": "Kane",
      "userId": "04940649649331248050"
     },
     "user_tz": -540
    },
    "id": "73e62edd-1a4b-4ed7-8d24-9b33598e01b4",
    "outputId": "5f430e0e-b165-4429-e868-c77154cedf7b"
   },
   "outputs": [
    {
     "name": "stdout",
     "output_type": "stream",
     "text": [
      "1번째 유사 문서:\n",
      "제43조 국회의원은 법률이 정하는 직을 겸할 수 없다.\n",
      " \n",
      "제44조 ①국회의원은 현행범인인 경우를 제외하고는 회기중 국회의 동의없이 체포 또는 구금되\n",
      "지 아니한다.\n",
      "②국회의원이 회\n",
      "\n",
      "\n",
      "\n",
      "2번째 유사 문서:\n",
      "한 동의권을 가진다.\n",
      " \n",
      "제61조 ①국회는 국정을 감사하거나 특정한 국정사안에 대하여 조사할 수 있으며, 이에 필요한\n",
      "서류의 제출 또는 증인의 출석과 증언이나 의견의 진술을 요구할\n",
      "\n",
      "\n",
      "\n",
      "3번째 유사 문서:\n",
      "제64조 ①국회는 법률에 저촉되지 아니하는 범위안에서 의사와 내부규율에 관한 규칙을 제정할\n",
      "수 있다.\n",
      "②국회는 의원의 자격을 심사하며, 의원을 징계할 수 있다.\n",
      "③의원을 제명하려면\n",
      "\n",
      "\n",
      "\n"
     ]
    }
   ],
   "source": [
    "#Chroma를 Retriever로 활용\n",
    "retriever = db.as_retriever(search_kwargs = {\"k\":3})\n",
    "result = retriever.invoke(\"국회의원의 의무\")\n",
    "for idx, value in enumerate(result):\n",
    "  print(f\"{idx+1}번째 유사 문서:\")\n",
    "  print(value.page_content[:100])\n",
    "  print(\"\\n\\n\")"
   ]
  },
  {
   "cell_type": "code",
   "execution_count": null,
   "id": "tkIgbnLoLBK4",
   "metadata": {
    "id": "tkIgbnLoLBK4"
   },
   "outputs": [],
   "source": []
  }
 ],
 "metadata": {
  "colab": {
   "provenance": []
  },
  "kernelspec": {
   "display_name": "venv",
   "language": "python",
   "name": "python3"
  },
  "language_info": {
   "codemirror_mode": {
    "name": "ipython",
    "version": 3
   },
   "file_extension": ".py",
   "mimetype": "text/x-python",
   "name": "python",
   "nbconvert_exporter": "python",
   "pygments_lexer": "ipython3",
   "version": "3.12.3"
  }
 },
 "nbformat": 4,
 "nbformat_minor": 5
}
